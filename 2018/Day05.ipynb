{
 "cells": [
  {
   "cell_type": "markdown",
   "metadata": {},
   "source": [
    "# --- Day 5: Alchemical Reduction ---\n",
    "\n",
    "You've managed to sneak in to the prototype suit manufacturing lab. The Elves are making decent progress, but are still struggling with the suit's size reduction capabilities.\n",
    "\n",
    "While the very latest in 1518 alchemical technology might have solved their problem eventually, you can do better. You scan the chemical composition of the suit's material and discover that it is formed by extremely long polymers (one of which is available as your puzzle input).\n",
    "\n",
    "The polymer is formed by smaller units which, when triggered, react with each other such that two adjacent units of the same type and opposite polarity are destroyed. Units' types are represented by letters; units' polarity is represented by capitalization. For instance, `r` and `R` are units with the same type but opposite polarity, whereas `r` and `s` are entirely different types and do not react.\n",
    "\n",
    "For example:\n",
    "\n",
    "- In `aA`, `a` and `A` react, leaving nothing behind.\n",
    "- In `abBA`, bB destroys itself, leaving `aA`. As above, this then destroys itself, leaving nothing.\n",
    "- In `abAB`, no two adjacent units are of the same type, and so nothing happens.\n",
    "- In `aabAAB`, even though `aa` and `AA` are of the same type, their polarities match, and so nothing happens.\n",
    "\n",
    "Now, consider a larger example, `dabAcCaCBAcCcaDA`:\n",
    "\n",
    "```\n",
    "dabAcCaCBAcCcaDA  The first 'cC' is removed.\n",
    "dabAaCBAcCcaDA    This creates 'Aa', which is removed.\n",
    "dabCBAcCcaDA      Either 'cC' or 'Cc' are removed (the result is the same).\n",
    "dabCBAcaDA        No further actions can be taken.\n",
    "```\n",
    "\n",
    "After all possible reactions, the resulting polymer contains 10 units.\n",
    "\n",
    "How many units remain after fully reacting the polymer you scanned?"
   ]
  },
  {
   "cell_type": "code",
   "execution_count": 22,
   "metadata": {},
   "outputs": [],
   "source": [
    "import itertools as it\n",
    "import re\n",
    "import string"
   ]
  },
  {
   "cell_type": "code",
   "execution_count": 20,
   "metadata": {},
   "outputs": [],
   "source": [
    "def input_():\n",
    "    with open('./inputs/day05/input.txt') as fp:\n",
    "        return fp.read().strip()"
   ]
  },
  {
   "cell_type": "code",
   "execution_count": 4,
   "metadata": {},
   "outputs": [],
   "source": [
    "def sliding_window(input_str):\n",
    "    \"\"\"\n",
    "    Iterate over an input string pairwise,\n",
    "    yielding tuples of ((index, character), (index, characater)).\n",
    "    \n",
    "    \"\"\"\n",
    "    first = enumerate(it.islice(input_str, 0, len(input_str) - 1), start=0)\n",
    "    second = enumerate(it.islice(input_str, 1, None), start=1)\n",
    "    \n",
    "    yield from zip(first, second)"
   ]
  },
  {
   "cell_type": "code",
   "execution_count": 5,
   "metadata": {},
   "outputs": [
    {
     "data": {
      "text/plain": [
       "[((0, 'a'), (1, 'b')), ((1, 'b'), (2, 'c')), ((2, 'c'), (3, 'd'))]"
      ]
     },
     "execution_count": 5,
     "metadata": {},
     "output_type": "execute_result"
    }
   ],
   "source": [
    "list(sliding_window('abcd'))"
   ]
  },
  {
   "cell_type": "code",
   "execution_count": 7,
   "metadata": {},
   "outputs": [],
   "source": [
    "def destruct(c1, c2):\n",
    "    return c1.lower() == c2.lower() and c1 != c2"
   ]
  },
  {
   "cell_type": "code",
   "execution_count": 8,
   "metadata": {},
   "outputs": [
    {
     "data": {
      "text/plain": [
       "(True, False, False, False)"
      ]
     },
     "execution_count": 8,
     "metadata": {},
     "output_type": "execute_result"
    }
   ],
   "source": [
    "destruct('a', 'A'), destruct('a', 'a'), destruct('a', 'b'), destruct('a', 'C')"
   ]
  },
  {
   "cell_type": "code",
   "execution_count": 16,
   "metadata": {},
   "outputs": [],
   "source": [
    "def condense(input_str):\n",
    "    input_iter = sliding_window(input_str)\n",
    "    to_remove = set()\n",
    "    \n",
    "    while True:\n",
    "        try:\n",
    "            (idx1, c1), (idx2, c2) = next(input_iter)\n",
    "        except StopIteration:\n",
    "            break\n",
    "            \n",
    "        if destruct(c1, c2):\n",
    "            to_remove.update({idx1, idx2})\n",
    "            \n",
    "            # skip the next iteration to get past c2\n",
    "            try:\n",
    "                next(input_iter)\n",
    "            except StopIteration:\n",
    "                break\n",
    "    \n",
    "    result = ''.join(c for idx, c in enumerate(input_str) if idx not in to_remove)\n",
    "    \n",
    "    if not to_remove:\n",
    "        return result\n",
    "    else:\n",
    "        return condense(result)"
   ]
  },
  {
   "cell_type": "code",
   "execution_count": 17,
   "metadata": {},
   "outputs": [
    {
     "data": {
      "text/plain": [
       "'abcd'"
      ]
     },
     "execution_count": 17,
     "metadata": {},
     "output_type": "execute_result"
    }
   ],
   "source": [
    "condense('abcd')"
   ]
  },
  {
   "cell_type": "code",
   "execution_count": 19,
   "metadata": {},
   "outputs": [
    {
     "name": "stdout",
     "output_type": "stream",
     "text": [
      "dabCBAcaDA expected dabCBAcaDA\n"
     ]
    }
   ],
   "source": [
    "print(condense('dabAcCaCBAcCcaDA'), 'expected', 'dabCBAcaDA')"
   ]
  },
  {
   "cell_type": "code",
   "execution_count": 21,
   "metadata": {},
   "outputs": [
    {
     "name": "stdout",
     "output_type": "stream",
     "text": [
      "9288\n"
     ]
    }
   ],
   "source": [
    "print(len(condense(input_())))"
   ]
  },
  {
   "cell_type": "markdown",
   "metadata": {},
   "source": [
    "# --- Part Two ---\n",
    "\n",
    "Time to improve the polymer.\n",
    "\n",
    "One of the unit types is causing problems; it's preventing the polymer from collapsing as much as it should. Your goal is to figure out which unit type is causing the most problems, remove all instances of it (regardless of polarity), fully react the remaining polymer, and measure its length.\n",
    "\n",
    "For example, again using the polymer `dabAcCaCBAcCcaDA` from above:\n",
    "\n",
    "- Removing all `A/a` units produces `dbcCCBcCcD`. Fully reacting this polymer produces `dbCBcD`, which has length 6.\n",
    "- Removing all `B/b` units produces `daAcCaCAcCcaDA`. Fully reacting this polymer produces `daCAcaDA`, which has length 8.\n",
    "- Removing all `C/c` units produces `dabAaBAaDA`. Fully reacting this polymer produces `daDA`, which has length 4.\n",
    "- Removing all `D/d` units produces `abAcCaCBAcCcaA`. Fully reacting this polymer produces `abCBAc`, which has length 6.\n",
    "\n",
    "In this example, removing all `C/c` units was best, producing the answer 4.\n",
    "\n",
    "What is the length of the shortest polymer you can produce by removing all units of exactly one type and fully reacting the result?"
   ]
  },
  {
   "cell_type": "code",
   "execution_count": 23,
   "metadata": {},
   "outputs": [],
   "source": [
    "def remove_char(input_str, char):\n",
    "    return re.sub(char, '', input_str, flags=re.IGNORECASE)"
   ]
  },
  {
   "cell_type": "code",
   "execution_count": 25,
   "metadata": {},
   "outputs": [
    {
     "data": {
      "text/plain": [
       "4"
      ]
     },
     "execution_count": 25,
     "metadata": {},
     "output_type": "execute_result"
    }
   ],
   "source": [
    "min(len(condense(remove_char('dabAcCaCBAcCcaDA', char))) for char in 'abcd')"
   ]
  },
  {
   "cell_type": "code",
   "execution_count": 27,
   "metadata": {},
   "outputs": [
    {
     "name": "stdout",
     "output_type": "stream",
     "text": [
      "5844\n"
     ]
    }
   ],
   "source": [
    "input_str = input_()\n",
    "print(min(len(condense(remove_char(input_str, char))) for char in string.ascii_lowercase))"
   ]
  },
  {
   "cell_type": "code",
   "execution_count": null,
   "metadata": {},
   "outputs": [],
   "source": []
  }
 ],
 "metadata": {
  "kernelspec": {
   "display_name": "Python 3",
   "language": "python",
   "name": "python3"
  },
  "language_info": {
   "codemirror_mode": {
    "name": "ipython",
    "version": 3
   },
   "file_extension": ".py",
   "mimetype": "text/x-python",
   "name": "python",
   "nbconvert_exporter": "python",
   "pygments_lexer": "ipython3",
   "version": "3.7.1"
  }
 },
 "nbformat": 4,
 "nbformat_minor": 2
}
