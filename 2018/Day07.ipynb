{
 "cells": [
  {
   "cell_type": "markdown",
   "metadata": {},
   "source": [
    "# --- Day 7: The Sum of Its Parts ---\n",
    "\n",
    "You find yourself standing on a snow-covered coastline; apparently, you landed a little off course. The region is too hilly to see the North Pole from here, but you do spot some Elves that seem to be trying to unpack something that washed ashore. It's quite cold out, so you decide to risk creating a paradox by asking them for directions.\n",
    "\n",
    "\"Oh, are you the search party?\" Somehow, you can understand whatever Elves from the year 1018 speak; you assume it's Ancient Nordic Elvish. Could the device on your wrist also be a translator? \"Those clothes don't look very warm; take this.\" They hand you a heavy coat.\n",
    "\n",
    "\"We do need to find our way back to the North Pole, but we have higher priorities at the moment. You see, believe it or not, this box contains something that will solve all of Santa's transportation problems - at least, that's what it looks like from the pictures in the instructions.\" It doesn't seem like they can read whatever language it's in, but you can: \"Sleigh kit. Some assembly required.\"\n",
    "\n",
    "\"'Sleigh'? What a wonderful name! You must help us assemble this 'sleigh' at once!\" They start excitedly pulling more parts out of the box.\n",
    "\n",
    "The instructions specify a series of steps and requirements about which steps must be finished before others can begin (your puzzle input). Each step is designated by a single letter. For example, suppose you have the following instructions:\n",
    "\n",
    "```\n",
    "Step C must be finished before step A can begin.\n",
    "Step C must be finished before step F can begin.\n",
    "Step A must be finished before step B can begin.\n",
    "Step A must be finished before step D can begin.\n",
    "Step B must be finished before step E can begin.\n",
    "Step D must be finished before step E can begin.\n",
    "Step F must be finished before step E can begin.\n",
    "```\n",
    "\n",
    "Visually, these requirements look like this:\n",
    "\n",
    "```\n",
    "  -->A--->B--\n",
    " /    \\      \\\n",
    "C      -->D----->E\n",
    " \\           /\n",
    "  ---->F-----\n",
    "```\n",
    "\n",
    "Your first goal is to determine the order in which the steps should be completed. If more than one step is ready, choose the step which is first alphabetically. In this example, the steps would be completed as follows:\n",
    "\n",
    "Only C is available, and so it is done first.\n",
    "Next, both A and F are available. A is first alphabetically, so it is done next.\n",
    "Then, even though F was available earlier, steps B and D are now also available, and B is the first alphabetically of the three.\n",
    "After that, only D and F are available. E is not available because only some of its prerequisites are complete. Therefore, D is completed next.\n",
    "F is the only choice, so it is done next.\n",
    "Finally, E is completed.\n",
    "So, in this example, the correct order is `CABDFE`.\n",
    "\n",
    "In what order should the steps in your instructions be completed?"
   ]
  },
  {
   "cell_type": "code",
   "execution_count": 7,
   "metadata": {},
   "outputs": [],
   "source": [
    "import re\n",
    "from dataclasses import dataclass, field"
   ]
  },
  {
   "cell_type": "code",
   "execution_count": 1,
   "metadata": {},
   "outputs": [],
   "source": [
    "def test_input():\n",
    "    yield 'Step C must be finished before step A can begin.'\n",
    "    yield 'Step C must be finished before step F can begin.'\n",
    "    yield 'Step A must be finished before step B can begin.'\n",
    "    yield 'Step A must be finished before step D can begin.'\n",
    "    yield 'Step B must be finished before step E can begin.'\n",
    "    yield 'Step D must be finished before step E can begin.'\n",
    "    yield 'Step F must be finished before step E can begin.'"
   ]
  },
  {
   "cell_type": "code",
   "execution_count": 2,
   "metadata": {},
   "outputs": [],
   "source": [
    "def input_():\n",
    "    with open('./inputs/day07/input.txt') as fp:\n",
    "        yield from (line.strip() for line in fp)"
   ]
  },
  {
   "cell_type": "code",
   "execution_count": 4,
   "metadata": {},
   "outputs": [],
   "source": [
    "STEP_RE = re.compile(r'^Step (?P<from>\\w) must be finished before step (?P<to>\\w) can begin.$')"
   ]
  },
  {
   "cell_type": "code",
   "execution_count": 5,
   "metadata": {},
   "outputs": [
    {
     "data": {
      "text/plain": [
       "<re.Match object; span=(0, 48), match='Step C must be finished before step A can begin.'>"
      ]
     },
     "execution_count": 5,
     "metadata": {},
     "output_type": "execute_result"
    }
   ],
   "source": [
    "STEP_RE.match('Step C must be finished before step A can begin.')"
   ]
  },
  {
   "cell_type": "code",
   "execution_count": 53,
   "metadata": {},
   "outputs": [],
   "source": [
    "@dataclass\n",
    "class Node:\n",
    "    id_: str\n",
    "    done: bool = field(init=False, default=False)\n",
    "    duration: int = field(init=False, default=0)\n",
    "    children: set = field(init=False, default_factory=set)\n",
    "    parents: set = field(init=False, default_factory=set)\n",
    "    \n",
    "    def add_child(self, child):\n",
    "        self.children.add(child)\n",
    "    \n",
    "    def add_parent(self, parent):\n",
    "        self.parents.add(parent)\n",
    "    \n",
    "    def __hash__(self):\n",
    "        return hash(self.id_)\n",
    "\n",
    "    @property\n",
    "    def ready(self):\n",
    "        return all(node.done for node in self.parents)\n",
    "    \n",
    "    def step_time(self, test=False):\n",
    "        offset = 64 if test else 4\n",
    "        return ord(self.id_) - offset"
   ]
  },
  {
   "cell_type": "code",
   "execution_count": 60,
   "metadata": {},
   "outputs": [],
   "source": [
    "@dataclass\n",
    "class Graph:\n",
    "    nodes: dict = field(init=False, default_factory=dict, repr=False)\n",
    "    \n",
    "    @classmethod\n",
    "    def from_steps(cls, steps):\n",
    "        graph = cls()\n",
    "        for step in steps:\n",
    "            result = STEP_RE.match(step)\n",
    "            graph.add_edge(result['from'], result['to'])\n",
    "        return graph\n",
    "        \n",
    "    def add_edge(self, from_, to):\n",
    "        self[from_].add_child(self[to])\n",
    "        self[to].add_parent(self[from_])\n",
    "    \n",
    "    def __getitem__(self, key):\n",
    "        return self.nodes.setdefault(key, Node(key))\n",
    "    \n",
    "    def next(self):\n",
    "        ready_nodes = sorted(\n",
    "            (node for node in self.nodes.values() if node.ready and not node.done),\n",
    "            key=lambda node: node.id_)\n",
    "        \n",
    "        if not ready_nodes:\n",
    "            return None\n",
    "        \n",
    "        next_node = ready_nodes[0]\n",
    "        next_node.done = True\n",
    "        \n",
    "        return next_node\n",
    "    \n",
    "    def __iter__(self):\n",
    "        return iter(self.next, None)\n",
    "    \n",
    "    def process_time(self, num_workers, test=False):\n",
    "        counter = 0\n",
    "        active_steps = set()\n",
    "        \n",
    "        while True:\n",
    "            # mark off any steps that are done\n",
    "            done_steps = set()\n",
    "            for step in active_steps:\n",
    "                if step.duration == step.step_time(test):\n",
    "                    step.done = True\n",
    "                    done_steps.add(step)\n",
    "            active_steps -= done_steps\n",
    "            \n",
    "            # find any nodes that are not done, are ready, and are not already active\n",
    "            ready_nodes = sorted(\n",
    "                (node for node in self.nodes.values() if not node.done and node.ready and node.duration == 0),\n",
    "                key=lambda node: node.id_)\n",
    "            \n",
    "            if not active_steps and not ready_nodes:\n",
    "                break\n",
    "                \n",
    "            # add new steps if there are any ready and there are workers available\n",
    "            if len(active_steps) < num_workers and ready_nodes:\n",
    "                active_steps.update(ready_nodes[:(num_workers - len(active_steps))])\n",
    "            \n",
    "            for step in active_steps:\n",
    "                step.duration += 1\n",
    "            \n",
    "            counter += 1\n",
    "        \n",
    "        return counter"
   ]
  },
  {
   "cell_type": "code",
   "execution_count": 37,
   "metadata": {},
   "outputs": [
    {
     "data": {
      "text/plain": [
       "'CABDFE'"
      ]
     },
     "execution_count": 37,
     "metadata": {},
     "output_type": "execute_result"
    }
   ],
   "source": [
    "''.join(node.id_ for node in Graph.from_steps(test_input()))"
   ]
  },
  {
   "cell_type": "code",
   "execution_count": 38,
   "metadata": {},
   "outputs": [
    {
     "data": {
      "text/plain": [
       "'CGKMUWXFAIHSYDNLJQTREOPZBV'"
      ]
     },
     "execution_count": 38,
     "metadata": {},
     "output_type": "execute_result"
    }
   ],
   "source": [
    "''.join(node.id_ for node in Graph.from_steps(input_()))"
   ]
  },
  {
   "cell_type": "markdown",
   "metadata": {},
   "source": [
    "# --- Part Two ---\n",
    "\n",
    "As you're about to begin construction, four of the Elves offer to help. \"The sun will set soon; it'll go faster if we work together.\" Now, you need to account for multiple people working on steps simultaneously. If multiple steps are available, workers should still begin them in alphabetical order.\n",
    "\n",
    "Each step takes 60 seconds plus an amount corresponding to its letter: A=1, B=2, C=3, and so on. So, step A takes 60+1=61 seconds, while step Z takes 60+26=86 seconds. No time is required between steps.\n",
    "\n",
    "To simplify things for the example, however, suppose you only have help from one Elf (a total of two workers) and that each step takes 60 fewer seconds (so that step A takes 1 second and step Z takes 26 seconds). Then, using the same instructions as above, this is how each second would be spent:\n",
    "\n",
    "```\n",
    "Second   Worker 1   Worker 2   Done\n",
    "   0        C          .        \n",
    "   1        C          .        \n",
    "   2        C          .        \n",
    "   3        A          F       C\n",
    "   4        B          F       CA\n",
    "   5        B          F       CA\n",
    "   6        D          F       CAB\n",
    "   7        D          F       CAB\n",
    "   8        D          F       CAB\n",
    "   9        D          .       CABF\n",
    "  10        E          .       CABFD\n",
    "  11        E          .       CABFD\n",
    "  12        E          .       CABFD\n",
    "  13        E          .       CABFD\n",
    "  14        E          .       CABFD\n",
    "  15        .          .       CABFDE\n",
    "```\n",
    "\n",
    "Each row represents one second of time. The Second column identifies how many seconds have passed as of the beginning of that second. Each worker column shows the step that worker is currently doing (or `.` if they are idle). The Done column shows completed steps.\n",
    "\n",
    "Note that the order of the steps has changed; this is because steps now take time to finish and multiple workers can begin multiple steps simultaneously.\n",
    "\n",
    "In this example, it would take 15 seconds for two workers to complete these steps.\n",
    "\n",
    "With 5 workers and the 60+ second step durations described above, how long will it take to complete all of the steps?"
   ]
  },
  {
   "cell_type": "code",
   "execution_count": 41,
   "metadata": {},
   "outputs": [],
   "source": [
    "def step_time(id_, test=False):\n",
    "    offset = 64 if test else 4\n",
    "    return ord(id_) - offset"
   ]
  },
  {
   "cell_type": "code",
   "execution_count": 39,
   "metadata": {},
   "outputs": [
    {
     "data": {
      "text/plain": [
       "(65, 90)"
      ]
     },
     "execution_count": 39,
     "metadata": {},
     "output_type": "execute_result"
    }
   ],
   "source": [
    "ord('A'), ord('Z')"
   ]
  },
  {
   "cell_type": "code",
   "execution_count": 43,
   "metadata": {},
   "outputs": [
    {
     "data": {
      "text/plain": [
       "(61, 86)"
      ]
     },
     "execution_count": 43,
     "metadata": {},
     "output_type": "execute_result"
    }
   ],
   "source": [
    "step_time('A'), step_time('Z')"
   ]
  },
  {
   "cell_type": "code",
   "execution_count": 44,
   "metadata": {},
   "outputs": [
    {
     "data": {
      "text/plain": [
       "(1, 26)"
      ]
     },
     "execution_count": 44,
     "metadata": {},
     "output_type": "execute_result"
    }
   ],
   "source": [
    "step_time('A', True), step_time('Z', True)"
   ]
  },
  {
   "cell_type": "code",
   "execution_count": 61,
   "metadata": {},
   "outputs": [
    {
     "data": {
      "text/plain": [
       "15"
      ]
     },
     "execution_count": 61,
     "metadata": {},
     "output_type": "execute_result"
    }
   ],
   "source": [
    "Graph.from_steps(test_input()).process_time(num_workers=2, test=True)"
   ]
  },
  {
   "cell_type": "code",
   "execution_count": 62,
   "metadata": {},
   "outputs": [
    {
     "data": {
      "text/plain": [
       "1046"
      ]
     },
     "execution_count": 62,
     "metadata": {},
     "output_type": "execute_result"
    }
   ],
   "source": [
    "# Should be less than 1048\n",
    "Graph.from_steps(input_()).process_time(num_workers=5, test=False)"
   ]
  },
  {
   "cell_type": "code",
   "execution_count": null,
   "metadata": {},
   "outputs": [],
   "source": []
  }
 ],
 "metadata": {
  "kernelspec": {
   "display_name": "Python 3",
   "language": "python",
   "name": "python3"
  },
  "language_info": {
   "codemirror_mode": {
    "name": "ipython",
    "version": 3
   },
   "file_extension": ".py",
   "mimetype": "text/x-python",
   "name": "python",
   "nbconvert_exporter": "python",
   "pygments_lexer": "ipython3",
   "version": "3.7.1"
  }
 },
 "nbformat": 4,
 "nbformat_minor": 2
}
