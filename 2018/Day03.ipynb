{
 "cells": [
  {
   "cell_type": "markdown",
   "metadata": {},
   "source": [
    "# --- Day 3: No Matter How You Slice It ---\n",
    "\n",
    "The Elves managed to locate the chimney-squeeze prototype fabric for Santa's suit (thanks to someone who helpfully wrote its box IDs on the wall of the warehouse in the middle of the night). Unfortunately, anomalies are still affecting them - nobody can even agree on how to cut the fabric.\n",
    "\n",
    "The whole piece of fabric they're working on is a very large square - at least 1000 inches on each side.\n",
    "\n",
    "Each Elf has made a claim about which area of fabric would be ideal for Santa's suit. All claims have an ID and consist of a single rectangle with edges parallel to the edges of the fabric. Each claim's rectangle is defined as follows:\n",
    "\n",
    "The number of inches between the left edge of the fabric and the left edge of the rectangle.\n",
    "The number of inches between the top edge of the fabric and the top edge of the rectangle.\n",
    "The width of the rectangle in inches.\n",
    "The height of the rectangle in inches.\n",
    "A claim like `#123 @ 3,2: 5x4` means that claim ID `123` specifies a rectangle 3 inches from the left edge, 2 inches from the top edge, 5 inches wide, and 4 inches tall. Visually, it claims the square inches of fabric represented by # (and ignores the square inches of fabric represented by .) in the diagram below:\n",
    "\n",
    "```\n",
    "...........\n",
    "...........\n",
    "...#####...\n",
    "...#####...\n",
    "...#####...\n",
    "...#####...\n",
    "...........\n",
    "...........\n",
    "...........\n",
    "```\n",
    "\n",
    "The problem is that many of the claims overlap, causing two or more claims to cover part of the same areas. For example, consider the following claims:\n",
    "\n",
    "```\n",
    "#1 @ 1,3: 4x4\n",
    "#2 @ 3,1: 4x4\n",
    "#3 @ 5,5: 2x2\n",
    "```\n",
    "\n",
    "Visually, these claim the following areas:\n",
    "\n",
    "```\n",
    "........\n",
    "...2222.\n",
    "...2222.\n",
    ".11XX22.\n",
    ".11XX22.\n",
    ".111133.\n",
    ".111133.\n",
    "........\n",
    "```\n",
    "\n",
    "The four square inches marked with X are claimed by both 1 and 2. (Claim 3, while adjacent to the others, does not overlap either of them.)\n",
    "\n",
    "If the Elves all proceed with their own plans, none of them will have enough fabric. How many square inches of fabric are within two or more claims?"
   ]
  },
  {
   "cell_type": "code",
   "execution_count": 21,
   "metadata": {},
   "outputs": [],
   "source": [
    "import dataclasses\n",
    "import itertools as it\n",
    "import re"
   ]
  },
  {
   "cell_type": "code",
   "execution_count": 8,
   "metadata": {},
   "outputs": [],
   "source": [
    "RECT_RE = re.compile(r'^#(?P<id_>\\d+) @ (?P<left>\\d+),(?P<top>\\d+): (?P<width>\\d+)x(?P<height>\\d+)$')"
   ]
  },
  {
   "cell_type": "code",
   "execution_count": 9,
   "metadata": {},
   "outputs": [
    {
     "data": {
      "text/plain": [
       "<re.Match object; span=(0, 13), match='#1 @ 1,3: 4x4'>"
      ]
     },
     "execution_count": 9,
     "metadata": {},
     "output_type": "execute_result"
    }
   ],
   "source": [
    "RECT_RE.match('#1 @ 1,3: 4x4')"
   ]
  },
  {
   "cell_type": "code",
   "execution_count": 1,
   "metadata": {},
   "outputs": [],
   "source": [
    "def test_input1():\n",
    "    yield '#1 @ 1,3: 4x4'\n",
    "    yield '#2 @ 3,1: 4x4'\n",
    "    yield '#3 @ 5,5: 2x2'"
   ]
  },
  {
   "cell_type": "code",
   "execution_count": 2,
   "metadata": {},
   "outputs": [],
   "source": [
    "def input_():\n",
    "    with open('./inputs/day03/input.txt') as fp:\n",
    "        yield from (line.strip() for line in fp)"
   ]
  },
  {
   "cell_type": "code",
   "execution_count": 57,
   "metadata": {},
   "outputs": [],
   "source": [
    "@dataclasses.dataclass\n",
    "class Rectangle:\n",
    "    id_: int\n",
    "    left: int\n",
    "    top: int\n",
    "    width: int\n",
    "    height: int\n",
    "    right: int = dataclasses.field(init=False)\n",
    "    bottom: int = dataclasses.field(init=False)\n",
    "        \n",
    "    def __post_init__(self):\n",
    "        self.right = self.left + self.width\n",
    "        self.bottom = self.top + self.height\n",
    "        \n",
    "    @classmethod\n",
    "    def from_str(cls, string):\n",
    "        match = RECT_RE.match(string)\n",
    "        if not match:\n",
    "            raise RuntimeError(f'Could not match string {string:!r}')\n",
    "        return cls(\n",
    "            int(match.group('id_')),\n",
    "            int(match.group('left')), int(match.group('top')),\n",
    "            int(match.group('width')), int(match.group('height')),\n",
    "        )\n",
    "    \n",
    "    def __hash__(self):\n",
    "        return hash(self.id_)\n",
    "    \n",
    "    def overlap(self, other):\n",
    "        return (\n",
    "            ((self.left <= other.left < self.right) or (other.left <= self.left < other.right))\n",
    "            and ((self.top <= other.top < self.bottom) or (other.top <= self.top < other.bottom))\n",
    "        )"
   ]
  },
  {
   "cell_type": "code",
   "execution_count": 17,
   "metadata": {},
   "outputs": [
    {
     "data": {
      "text/plain": [
       "Rectangle(id_=1, left=1, top=3, width=4, height=4, right=5, bottom=7)"
      ]
     },
     "execution_count": 17,
     "metadata": {},
     "output_type": "execute_result"
    }
   ],
   "source": [
    "Rectangle.from_str('#1 @ 1,3: 4x4')"
   ]
  },
  {
   "cell_type": "code",
   "execution_count": 19,
   "metadata": {},
   "outputs": [
    {
     "name": "stdout",
     "output_type": "stream",
     "text": [
      "999\n",
      "999\n"
     ]
    }
   ],
   "source": [
    "print(max(Rectangle.from_str(r).right for r in input_()))\n",
    "print(max(Rectangle.from_str(r).bottom for r in input_()))"
   ]
  },
  {
   "cell_type": "code",
   "execution_count": 25,
   "metadata": {},
   "outputs": [],
   "source": [
    "def rectangles(lines):\n",
    "    return [Rectangle.from_str(r) for r in lines]"
   ]
  },
  {
   "cell_type": "code",
   "execution_count": 40,
   "metadata": {},
   "outputs": [],
   "source": [
    "def count_overlap(width, height, rectangles):\n",
    "    overlap_count = 0\n",
    "\n",
    "    for column in range(width):\n",
    "        for row in range(height):\n",
    "            matched_count = 0\n",
    "\n",
    "            for rect in rectangles:\n",
    "                if (rect.left <= column < rect.right) and (rect.top <= row < rect.bottom):\n",
    "                    matched_count += 1\n",
    "                if matched_count >= 2:\n",
    "                    overlap_count += 1\n",
    "                    break\n",
    "    \n",
    "    return overlap_count"
   ]
  },
  {
   "cell_type": "code",
   "execution_count": 41,
   "metadata": {},
   "outputs": [
    {
     "name": "stdout",
     "output_type": "stream",
     "text": [
      "4\n"
     ]
    }
   ],
   "source": [
    "print(count_overlap(8, 8, rectangles(test_input1())))"
   ]
  },
  {
   "cell_type": "code",
   "execution_count": 42,
   "metadata": {},
   "outputs": [
    {
     "name": "stdout",
     "output_type": "stream",
     "text": [
      "107663\n"
     ]
    }
   ],
   "source": [
    "print(count_overlap(1000, 1000, rectangles(input_())))"
   ]
  },
  {
   "cell_type": "markdown",
   "metadata": {},
   "source": [
    "# --- Part Two ---\n",
    "\n",
    "Amidst the chaos, you notice that exactly one claim doesn't overlap by even a single square inch of fabric with any other claim. If you can somehow draw attention to it, maybe the Elves will be able to make Santa's suit after all!\n",
    "\n",
    "For example, in the claims above, only claim 3 is intact after all claims are made.\n",
    "\n",
    "What is the ID of the only claim that doesn't overlap?"
   ]
  },
  {
   "cell_type": "code",
   "execution_count": 69,
   "metadata": {},
   "outputs": [],
   "source": [
    "def find_lonely(rectangles):\n",
    "    rectangles_set = set(rectangles)\n",
    "    lonely = set(rectangles)\n",
    "    \n",
    "    for rect1 in rectangles:            \n",
    "        for rect2 in rectangles_set:\n",
    "            if (\n",
    "                rect2 in lonely and (rect1.id_ != rect2.id_) and rect1.overlap(rect2)\n",
    "            ):\n",
    "                lonely.discard(rect1)\n",
    "                lonely.discard(rect2)\n",
    "    \n",
    "    return lonely"
   ]
  },
  {
   "cell_type": "code",
   "execution_count": 70,
   "metadata": {
    "scrolled": false
   },
   "outputs": [
    {
     "data": {
      "text/plain": [
       "{Rectangle(id_=3, left=5, top=5, width=2, height=2, right=7, bottom=7)}"
      ]
     },
     "execution_count": 70,
     "metadata": {},
     "output_type": "execute_result"
    }
   ],
   "source": [
    "find_lonely(rectangles(test_input1()))"
   ]
  },
  {
   "cell_type": "code",
   "execution_count": 71,
   "metadata": {},
   "outputs": [
    {
     "data": {
      "text/plain": [
       "{Rectangle(id_=1166, left=126, top=200, width=10, height=11, right=136, bottom=211)}"
      ]
     },
     "execution_count": 71,
     "metadata": {},
     "output_type": "execute_result"
    }
   ],
   "source": [
    "find_lonely(rectangles(input_()))"
   ]
  },
  {
   "cell_type": "code",
   "execution_count": null,
   "metadata": {},
   "outputs": [],
   "source": []
  }
 ],
 "metadata": {
  "kernelspec": {
   "display_name": "Python 3",
   "language": "python",
   "name": "python3"
  },
  "language_info": {
   "codemirror_mode": {
    "name": "ipython",
    "version": 3
   },
   "file_extension": ".py",
   "mimetype": "text/x-python",
   "name": "python",
   "nbconvert_exporter": "python",
   "pygments_lexer": "ipython3",
   "version": "3.7.1"
  }
 },
 "nbformat": 4,
 "nbformat_minor": 2
}
