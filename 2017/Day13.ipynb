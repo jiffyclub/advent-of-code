{
 "cells": [
  {
   "cell_type": "markdown",
   "metadata": {},
   "source": [
    "# Part 1\n",
    "\n",
    "You need to cross a vast firewall. The firewall consists of several layers, each with a security scanner that moves back and forth across the layer. To succeed, you must not be detected by a scanner.\n",
    "\n",
    "By studying the firewall briefly, you are able to record (in your puzzle input) the depth of each layer and the range of the scanning area for the scanner within it, written as depth: range. Each layer has a thickness of exactly 1. A layer at depth 0 begins immediately inside the firewall; a layer at depth 1 would start immediately after that.\n",
    "\n",
    "For example, suppose you've recorded the following:\n",
    "\n",
    "```\n",
    "0: 3\n",
    "1: 2\n",
    "4: 4\n",
    "6: 4\n",
    "```\n",
    "\n",
    "This means that there is a layer immediately inside the firewall (with range 3), a second layer immediately after that (with range 2), a third layer which begins at depth 4 (with range 4), and a fourth layer which begins at depth 6 (also with range 4). Visually, it might look like this:\n",
    "\n",
    "```\n",
    " 0   1   2   3   4   5   6\n",
    "[ ] [ ] ... ... [ ] ... [ ]\n",
    "[ ] [ ]         [ ]     [ ]\n",
    "[ ]             [ ]     [ ]\n",
    "                [ ]     [ ]\n",
    "```\n",
    "\n",
    "Within each layer, a security scanner moves back and forth within its range. Each security scanner starts at the top and moves down until it reaches the bottom, then moves up until it reaches the top, and repeats. A security scanner takes one picosecond to move one step. Drawing scanners as S, the first few picoseconds look like this:\n",
    "\n",
    "```\n",
    "Picosecond 0:\n",
    " 0   1   2   3   4   5   6\n",
    "[S] [S] ... ... [S] ... [S]\n",
    "[ ] [ ]         [ ]     [ ]\n",
    "[ ]             [ ]     [ ]\n",
    "                [ ]     [ ]\n",
    "\n",
    "Picosecond 1:\n",
    " 0   1   2   3   4   5   6\n",
    "[ ] [ ] ... ... [ ] ... [ ]\n",
    "[S] [S]         [S]     [S]\n",
    "[ ]             [ ]     [ ]\n",
    "                [ ]     [ ]\n",
    "\n",
    "Picosecond 2:\n",
    " 0   1   2   3   4   5   6\n",
    "[ ] [S] ... ... [ ] ... [ ]\n",
    "[ ] [ ]         [ ]     [ ]\n",
    "[S]             [S]     [S]\n",
    "                [ ]     [ ]\n",
    "\n",
    "Picosecond 3:\n",
    " 0   1   2   3   4   5   6\n",
    "[ ] [ ] ... ... [ ] ... [ ]\n",
    "[S] [S]         [ ]     [ ]\n",
    "[ ]             [ ]     [ ]\n",
    "                [S]     [S]\n",
    "```\n",
    "\n",
    "Your plan is to hitch a ride on a packet about to move through the firewall. The packet will travel along the top of each layer, and it moves at one layer per picosecond. Each picosecond, the packet moves one layer forward (its first move takes it into layer 0), and then the scanners move one step. If there is a scanner at the top of the layer as your packet enters it, you are caught. (If a scanner moves into the top of its layer while you are there, you are not caught: it doesn't have time to notice you before you leave.) If you were to do this in the configuration above, marking your current position with parentheses, your passage through the firewall would look like this:\n",
    "\n",
    "```\n",
    "Initial state:\n",
    " 0   1   2   3   4   5   6\n",
    "[S] [S] ... ... [S] ... [S]\n",
    "[ ] [ ]         [ ]     [ ]\n",
    "[ ]             [ ]     [ ]\n",
    "                [ ]     [ ]\n",
    "\n",
    "Picosecond 0:\n",
    " 0   1   2   3   4   5   6\n",
    "(S) [S] ... ... [S] ... [S]\n",
    "[ ] [ ]         [ ]     [ ]\n",
    "[ ]             [ ]     [ ]\n",
    "                [ ]     [ ]\n",
    "\n",
    " 0   1   2   3   4   5   6\n",
    "( ) [ ] ... ... [ ] ... [ ]\n",
    "[S] [S]         [S]     [S]\n",
    "[ ]             [ ]     [ ]\n",
    "                [ ]     [ ]\n",
    "\n",
    "\n",
    "Picosecond 1:\n",
    " 0   1   2   3   4   5   6\n",
    "[ ] ( ) ... ... [ ] ... [ ]\n",
    "[S] [S]         [S]     [S]\n",
    "[ ]             [ ]     [ ]\n",
    "                [ ]     [ ]\n",
    "\n",
    " 0   1   2   3   4   5   6\n",
    "[ ] (S) ... ... [ ] ... [ ]\n",
    "[ ] [ ]         [ ]     [ ]\n",
    "[S]             [S]     [S]\n",
    "                [ ]     [ ]\n",
    "\n",
    "\n",
    "Picosecond 2:\n",
    " 0   1   2   3   4   5   6\n",
    "[ ] [S] (.) ... [ ] ... [ ]\n",
    "[ ] [ ]         [ ]     [ ]\n",
    "[S]             [S]     [S]\n",
    "                [ ]     [ ]\n",
    "\n",
    " 0   1   2   3   4   5   6\n",
    "[ ] [ ] (.) ... [ ] ... [ ]\n",
    "[S] [S]         [ ]     [ ]\n",
    "[ ]             [ ]     [ ]\n",
    "                [S]     [S]\n",
    "\n",
    "\n",
    "Picosecond 3:\n",
    " 0   1   2   3   4   5   6\n",
    "[ ] [ ] ... (.) [ ] ... [ ]\n",
    "[S] [S]         [ ]     [ ]\n",
    "[ ]             [ ]     [ ]\n",
    "                [S]     [S]\n",
    "\n",
    " 0   1   2   3   4   5   6\n",
    "[S] [S] ... (.) [ ] ... [ ]\n",
    "[ ] [ ]         [ ]     [ ]\n",
    "[ ]             [S]     [S]\n",
    "                [ ]     [ ]\n",
    "\n",
    "\n",
    "Picosecond 4:\n",
    " 0   1   2   3   4   5   6\n",
    "[S] [S] ... ... ( ) ... [ ]\n",
    "[ ] [ ]         [ ]     [ ]\n",
    "[ ]             [S]     [S]\n",
    "                [ ]     [ ]\n",
    "\n",
    " 0   1   2   3   4   5   6\n",
    "[ ] [ ] ... ... ( ) ... [ ]\n",
    "[S] [S]         [S]     [S]\n",
    "[ ]             [ ]     [ ]\n",
    "                [ ]     [ ]\n",
    "\n",
    "\n",
    "Picosecond 5:\n",
    " 0   1   2   3   4   5   6\n",
    "[ ] [ ] ... ... [ ] (.) [ ]\n",
    "[S] [S]         [S]     [S]\n",
    "[ ]             [ ]     [ ]\n",
    "                [ ]     [ ]\n",
    "\n",
    " 0   1   2   3   4   5   6\n",
    "[ ] [S] ... ... [S] (.) [S]\n",
    "[ ] [ ]         [ ]     [ ]\n",
    "[S]             [ ]     [ ]\n",
    "                [ ]     [ ]\n",
    "\n",
    "\n",
    "Picosecond 6:\n",
    " 0   1   2   3   4   5   6\n",
    "[ ] [S] ... ... [S] ... (S)\n",
    "[ ] [ ]         [ ]     [ ]\n",
    "[S]             [ ]     [ ]\n",
    "                [ ]     [ ]\n",
    "\n",
    " 0   1   2   3   4   5   6\n",
    "[ ] [ ] ... ... [ ] ... ( )\n",
    "[S] [S]         [S]     [S]\n",
    "[ ]             [ ]     [ ]\n",
    "                [ ]     [ ]\n",
    "```\n",
    "\n",
    "In this situation, you are caught in layers 0 and 6, because your packet entered the layer when its scanner was at the top when you entered it. You are not caught in layer 1, since the scanner moved into the top of the layer once you were already there.\n",
    "\n",
    "The severity of getting caught on a layer is equal to its depth multiplied by its range. (Ignore layers in which you do not get caught.) The severity of the whole trip is the sum of these values. In the example above, the trip severity is `0*3 + 6*4 = 24`.\n",
    "\n",
    "Given the details of the firewall you've recorded, if you leave immediately, what is the severity of your whole trip?"
   ]
  },
  {
   "cell_type": "code",
   "execution_count": 82,
   "metadata": {},
   "outputs": [],
   "source": [
    "import textwrap\n",
    "from io import StringIO\n",
    "\n",
    "from dataclasses import dataclass, field"
   ]
  },
  {
   "cell_type": "code",
   "execution_count": 83,
   "metadata": {},
   "outputs": [],
   "source": [
    "@dataclass\n",
    "class ScannerRange:\n",
    "    layer: int\n",
    "    range: int\n",
    "    pos: int = field(init=False, default=0)\n",
    "    dir_: str = field(init=False, default='down')\n",
    "    \n",
    "    def advance(self):\n",
    "        if self.dir_ == 'down':\n",
    "            self.pos += 1\n",
    "            if self.pos == self.range - 1:\n",
    "                self.dir_ = 'up'\n",
    "        else:\n",
    "            self.pos -= 1\n",
    "            if self.pos == 0:\n",
    "                self.dir_ = 'down'\n",
    "    \n",
    "    def reset(self):\n",
    "        self.pos = 0\n",
    "        self.dir_ = 'down'\n",
    "    \n",
    "    def copy(self):\n",
    "        inst = self.__class__(self.layer, self.range)\n",
    "        inst.pos = self.pos\n",
    "        inst.dir_ = self.dir_\n",
    "        return inst"
   ]
  },
  {
   "cell_type": "code",
   "execution_count": 84,
   "metadata": {},
   "outputs": [],
   "source": [
    "def init_firewall(rows) -> dict:\n",
    "    firewall = {}\n",
    "    for row in rows:\n",
    "        layer, range = (int(x) for x in row.split(': '))\n",
    "        firewall[layer] = ScannerRange(layer, range)\n",
    "    return firewall"
   ]
  },
  {
   "cell_type": "code",
   "execution_count": 85,
   "metadata": {},
   "outputs": [],
   "source": [
    "def test_input() -> dict:\n",
    "    return init_firewall(StringIO(textwrap.dedent(\n",
    "        \"\"\"\\\n",
    "        0: 3\n",
    "        1: 2\n",
    "        4: 4\n",
    "        6: 4\n",
    "        \"\"\")))"
   ]
  },
  {
   "cell_type": "code",
   "execution_count": 86,
   "metadata": {},
   "outputs": [],
   "source": [
    "def puzzle_input() -> dict:\n",
    "    with open('./inputs/day13/input.txt') as f:\n",
    "        return init_firewall(f)"
   ]
  },
  {
   "cell_type": "code",
   "execution_count": 87,
   "metadata": {},
   "outputs": [],
   "source": [
    "def one_round(firewall: dict, packet_pos: int) -> int:\n",
    "    severity = 0\n",
    "    caught = False\n",
    "    \n",
    "    # first check for scanners in this packet position\n",
    "    if packet_pos in firewall and firewall[packet_pos].pos == 0:\n",
    "        severity = firewall[packet_pos].range * packet_pos\n",
    "        caught = True\n",
    "    \n",
    "    # then all the scanners move\n",
    "    for scanner in firewall.values():\n",
    "        scanner.advance()\n",
    "    \n",
    "    return severity, caught"
   ]
  },
  {
   "cell_type": "code",
   "execution_count": 88,
   "metadata": {},
   "outputs": [],
   "source": [
    "test_firewall = test_input()\n",
    "assert sum(one_round(test_firewall, pos)[0] for pos in range(max(test_firewall.keys()) + 1)) == 24"
   ]
  },
  {
   "cell_type": "code",
   "execution_count": 89,
   "metadata": {},
   "outputs": [
    {
     "data": {
      "text/plain": [
       "1504"
      ]
     },
     "execution_count": 89,
     "metadata": {},
     "output_type": "execute_result"
    }
   ],
   "source": [
    "puzzle_firewall = puzzle_input()\n",
    "sum(one_round(puzzle_firewall, pos)[0] for pos in range(max(puzzle_firewall.keys()) + 1))"
   ]
  },
  {
   "cell_type": "markdown",
   "metadata": {},
   "source": [
    "# Part 2\n",
    "\n",
    "Now, you need to pass through the firewall without being caught - easier said than done.\n",
    "\n",
    "You can't control the speed of the packet, but you can delay it any number of picoseconds. For each picosecond you delay the packet before beginning your trip, all security scanners move one step. You're not in the firewall during this time; you don't enter layer 0 until you stop delaying the packet.\n",
    "\n",
    "In the example above, if you delay 10 picoseconds (picoseconds 0 - 9), you won't get caught:\n",
    "\n",
    "```\n",
    "State after delaying:\n",
    " 0   1   2   3   4   5   6\n",
    "[ ] [S] ... ... [ ] ... [ ]\n",
    "[ ] [ ]         [ ]     [ ]\n",
    "[S]             [S]     [S]\n",
    "                [ ]     [ ]\n",
    "\n",
    "Picosecond 10:\n",
    " 0   1   2   3   4   5   6\n",
    "( ) [S] ... ... [ ] ... [ ]\n",
    "[ ] [ ]         [ ]     [ ]\n",
    "[S]             [S]     [S]\n",
    "                [ ]     [ ]\n",
    "\n",
    " 0   1   2   3   4   5   6\n",
    "( ) [ ] ... ... [ ] ... [ ]\n",
    "[S] [S]         [S]     [S]\n",
    "[ ]             [ ]     [ ]\n",
    "                [ ]     [ ]\n",
    "\n",
    "\n",
    "Picosecond 11:\n",
    " 0   1   2   3   4   5   6\n",
    "[ ] ( ) ... ... [ ] ... [ ]\n",
    "[S] [S]         [S]     [S]\n",
    "[ ]             [ ]     [ ]\n",
    "                [ ]     [ ]\n",
    "\n",
    " 0   1   2   3   4   5   6\n",
    "[S] (S) ... ... [S] ... [S]\n",
    "[ ] [ ]         [ ]     [ ]\n",
    "[ ]             [ ]     [ ]\n",
    "                [ ]     [ ]\n",
    "\n",
    "\n",
    "Picosecond 12:\n",
    " 0   1   2   3   4   5   6\n",
    "[S] [S] (.) ... [S] ... [S]\n",
    "[ ] [ ]         [ ]     [ ]\n",
    "[ ]             [ ]     [ ]\n",
    "                [ ]     [ ]\n",
    "\n",
    " 0   1   2   3   4   5   6\n",
    "[ ] [ ] (.) ... [ ] ... [ ]\n",
    "[S] [S]         [S]     [S]\n",
    "[ ]             [ ]     [ ]\n",
    "                [ ]     [ ]\n",
    "\n",
    "\n",
    "Picosecond 13:\n",
    " 0   1   2   3   4   5   6\n",
    "[ ] [ ] ... (.) [ ] ... [ ]\n",
    "[S] [S]         [S]     [S]\n",
    "[ ]             [ ]     [ ]\n",
    "                [ ]     [ ]\n",
    "\n",
    " 0   1   2   3   4   5   6\n",
    "[ ] [S] ... (.) [ ] ... [ ]\n",
    "[ ] [ ]         [ ]     [ ]\n",
    "[S]             [S]     [S]\n",
    "                [ ]     [ ]\n",
    "\n",
    "\n",
    "Picosecond 14:\n",
    " 0   1   2   3   4   5   6\n",
    "[ ] [S] ... ... ( ) ... [ ]\n",
    "[ ] [ ]         [ ]     [ ]\n",
    "[S]             [S]     [S]\n",
    "                [ ]     [ ]\n",
    "\n",
    " 0   1   2   3   4   5   6\n",
    "[ ] [ ] ... ... ( ) ... [ ]\n",
    "[S] [S]         [ ]     [ ]\n",
    "[ ]             [ ]     [ ]\n",
    "                [S]     [S]\n",
    "\n",
    "\n",
    "Picosecond 15:\n",
    " 0   1   2   3   4   5   6\n",
    "[ ] [ ] ... ... [ ] (.) [ ]\n",
    "[S] [S]         [ ]     [ ]\n",
    "[ ]             [ ]     [ ]\n",
    "                [S]     [S]\n",
    "\n",
    " 0   1   2   3   4   5   6\n",
    "[S] [S] ... ... [ ] (.) [ ]\n",
    "[ ] [ ]         [ ]     [ ]\n",
    "[ ]             [S]     [S]\n",
    "                [ ]     [ ]\n",
    "\n",
    "\n",
    "Picosecond 16:\n",
    " 0   1   2   3   4   5   6\n",
    "[S] [S] ... ... [ ] ... ( )\n",
    "[ ] [ ]         [ ]     [ ]\n",
    "[ ]             [S]     [S]\n",
    "                [ ]     [ ]\n",
    "\n",
    " 0   1   2   3   4   5   6\n",
    "[ ] [ ] ... ... [ ] ... ( )\n",
    "[S] [S]         [S]     [S]\n",
    "[ ]             [ ]     [ ]\n",
    "                [ ]     [ ]\n",
    "```\n",
    "\n",
    "Because all smaller delays would get you caught, the fewest number of picoseconds you would need to delay to get through safely is 10.\n",
    "\n",
    "What is the fewest number of picoseconds that you need to delay the packet to pass through the firewall without being caught?"
   ]
  },
  {
   "cell_type": "code",
   "execution_count": 90,
   "metadata": {},
   "outputs": [],
   "source": [
    "import itertools"
   ]
  },
  {
   "cell_type": "markdown",
   "metadata": {},
   "source": [
    "## Brute-force Python Solution"
   ]
  },
  {
   "cell_type": "code",
   "execution_count": 91,
   "metadata": {},
   "outputs": [],
   "source": [
    "def stealth_delay(firewall: dict):\n",
    "    loop_firewall = {layer: scanner.copy() for layer, scanner in firewall.items()}\n",
    "    num_layers = max(firewall.keys())\n",
    "    \n",
    "    for delay in itertools.count(0):\n",
    "        pre_check_firewall = {layer: scanner.copy() for layer, scanner in loop_firewall.items()}\n",
    "        \n",
    "        # check for safe passage\n",
    "        if all(\n",
    "                not one_round(loop_firewall, pos)[1]\n",
    "                for pos in range(num_layers + 1)):\n",
    "            return delay\n",
    "        else:\n",
    "            # reset to pre-check state and advance once\n",
    "            loop_firewall = {layer: scanner.copy() for layer, scanner in pre_check_firewall.items()}\n",
    "            for scanner in loop_firewall.values():\n",
    "                scanner.advance()"
   ]
  },
  {
   "cell_type": "code",
   "execution_count": 92,
   "metadata": {},
   "outputs": [],
   "source": [
    "assert stealth_delay(test_input()) == 10, stealth_delay(test_firewall)"
   ]
  },
  {
   "cell_type": "code",
   "execution_count": 93,
   "metadata": {},
   "outputs": [
    {
     "name": "stdout",
     "output_type": "stream",
     "text": [
      "CPU times: user 10min 28s, sys: 1.92 s, total: 10min 30s\n",
      "Wall time: 10min 33s\n"
     ]
    },
    {
     "data": {
      "text/plain": [
       "3823370"
      ]
     },
     "execution_count": 93,
     "metadata": {},
     "output_type": "execute_result"
    }
   ],
   "source": [
    "%time stealth_delay(puzzle_input())"
   ]
  },
  {
   "cell_type": "markdown",
   "metadata": {},
   "source": [
    "## Brute-force Cython Solution"
   ]
  },
  {
   "cell_type": "code",
   "execution_count": 1,
   "metadata": {},
   "outputs": [],
   "source": [
    "import textwrap\n",
    "from io import StringIO"
   ]
  },
  {
   "cell_type": "code",
   "execution_count": 2,
   "metadata": {},
   "outputs": [],
   "source": [
    "def test_input() -> dict:\n",
    "    rows = StringIO(textwrap.dedent(\n",
    "        \"\"\"\\\n",
    "        0: 3\n",
    "        1: 2\n",
    "        4: 4\n",
    "        6: 4\n",
    "        \"\"\"))\n",
    "    return {layer: range_ for layer, range_ in (map(int, row.strip().split(': ')) for row in rows)}"
   ]
  },
  {
   "cell_type": "code",
   "execution_count": 3,
   "metadata": {},
   "outputs": [
    {
     "data": {
      "text/plain": [
       "{0: 3, 1: 2, 4: 4, 6: 4}"
      ]
     },
     "execution_count": 3,
     "metadata": {},
     "output_type": "execute_result"
    }
   ],
   "source": [
    "test_input()"
   ]
  },
  {
   "cell_type": "code",
   "execution_count": 3,
   "metadata": {},
   "outputs": [],
   "source": [
    "def puzzle_input() -> dict:\n",
    "    with open('./inputs/day13/input.txt') as f:\n",
    "        return {layer: range_ for layer, range_ in (map(int, row.strip().split(': ')) for row in f)}"
   ]
  },
  {
   "cell_type": "code",
   "execution_count": 4,
   "metadata": {},
   "outputs": [],
   "source": [
    "%load_ext cython"
   ]
  },
  {
   "cell_type": "code",
   "execution_count": 9,
   "metadata": {},
   "outputs": [],
   "source": [
    "%%cython\n",
    "cpdef int scanner_layer(int scanner_range, int t):\n",
    "    cdef int sr = scanner_range - 1\n",
    "    cdef int scx2 = sr * 2\n",
    "    cdef int t_mod_scx2 = t % scx2  \n",
    "    return t_mod_scx2 if t_mod_scx2 <= sr else scx2 - (t % scx2)"
   ]
  },
  {
   "cell_type": "code",
   "execution_count": 10,
   "metadata": {},
   "outputs": [],
   "source": [
    "assert [scanner_layer(3, t) for t in range(7)] == [0, 1, 2, 1, 0, 1, 2]"
   ]
  },
  {
   "cell_type": "code",
   "execution_count": 11,
   "metadata": {},
   "outputs": [
    {
     "data": {
      "text/plain": [
       "[0, 1, 2, 3, 4, 5, 4, 3, 2, 1, 0, 1, 2, 3, 4, 5, 4, 3, 2, 1]"
      ]
     },
     "execution_count": 11,
     "metadata": {},
     "output_type": "execute_result"
    }
   ],
   "source": [
    "[scanner_layer(6, t) for t in range(20)]"
   ]
  },
  {
   "cell_type": "code",
   "execution_count": 5,
   "metadata": {},
   "outputs": [],
   "source": [
    "%%cython\n",
    "cdef int scanner_layer(int scanner_range, int t):\n",
    "    cdef int sr = scanner_range - 1\n",
    "    cdef int scx2 = sr * 2\n",
    "    cdef int t_mod_scx2 = t % scx2  \n",
    "    return t_mod_scx2 if t_mod_scx2 <= sr else scx2 - t_mod_scx2\n",
    "\n",
    "cdef bint attempt_crossing(dict firewall, int num_layers, int t_start):\n",
    "    cdef int pos, scanner_pos, scanner_range\n",
    "    for pos in range(num_layers):\n",
    "        if pos in firewall:\n",
    "            scanner_range = firewall[pos]\n",
    "            scanner_pos = scanner_layer(scanner_range, t_start + pos)\n",
    "            if scanner_pos == 0:\n",
    "                return False\n",
    "    return True\n",
    "\n",
    "cpdef int find_start(dict firewall):\n",
    "    cdef int t_start = 0\n",
    "    cdef int num_layers = max(firewall.keys()) + 1\n",
    "    while True:\n",
    "        if attempt_crossing(firewall, num_layers, t_start):\n",
    "            break\n",
    "        else:\n",
    "            t_start += 1\n",
    "    return t_start"
   ]
  },
  {
   "cell_type": "code",
   "execution_count": 13,
   "metadata": {},
   "outputs": [],
   "source": [
    "assert find_start(test_input()) == 10"
   ]
  },
  {
   "cell_type": "code",
   "execution_count": 7,
   "metadata": {},
   "outputs": [],
   "source": [
    "puzzle_firewall = puzzle_input()"
   ]
  },
  {
   "cell_type": "code",
   "execution_count": 17,
   "metadata": {
    "scrolled": true
   },
   "outputs": [
    {
     "name": "stdout",
     "output_type": "stream",
     "text": [
      "547 ms ± 59.9 ms per loop (mean ± std. dev. of 7 runs, 1 loop each)\n"
     ]
    }
   ],
   "source": [
    "%timeit find_start(puzzle_firewall)"
   ]
  },
  {
   "cell_type": "markdown",
   "metadata": {},
   "source": [
    "### Even More Cythonic"
   ]
  },
  {
   "cell_type": "code",
   "execution_count": 9,
   "metadata": {},
   "outputs": [],
   "source": [
    "import array"
   ]
  },
  {
   "cell_type": "code",
   "execution_count": 10,
   "metadata": {},
   "outputs": [],
   "source": [
    "def firewall_array(firewall: dict):\n",
    "    ranges = []\n",
    "    for i in range(max(firewall.keys()) + 1):\n",
    "        ranges.append(firewall[i] if i in firewall else 0)\n",
    "    return array.array('i', ranges)"
   ]
  },
  {
   "cell_type": "code",
   "execution_count": 11,
   "metadata": {},
   "outputs": [],
   "source": [
    "%%cython\n",
    "cimport cython\n",
    "\n",
    "cdef int scanner_layer2(int scanner_range, int t) nogil:\n",
    "    cdef int sr = scanner_range - 1\n",
    "    cdef int scx2 = sr * 2\n",
    "    cdef int t_mod_scx2 = t % scx2\n",
    "    return t_mod_scx2 if t_mod_scx2 <= sr else scx2 - t_mod_scx2\n",
    "\n",
    "@cython.boundscheck(False)\n",
    "@cython.wraparound(False)\n",
    "cdef bint attempt_crossing2(int[:] ranges, int num_layers, int t_start) nogil:\n",
    "    cdef int pos, scanner_pos, scanner_range\n",
    "    for pos in range(num_layers):\n",
    "        if ranges[pos] != 0:\n",
    "            scanner_pos = scanner_layer2(ranges[pos], t_start + pos)\n",
    "            if scanner_pos == 0:\n",
    "                return False\n",
    "    return True\n",
    "\n",
    "@cython.boundscheck(False)\n",
    "@cython.wraparound(False)\n",
    "cpdef int find_start2(int[:] ranges):\n",
    "    cdef int t_start = 0\n",
    "    cdef int num_layers = len(ranges)\n",
    "    while True:\n",
    "        if attempt_crossing2(ranges, num_layers, t_start):\n",
    "            break\n",
    "        else:\n",
    "            t_start += 1\n",
    "    return t_start"
   ]
  },
  {
   "cell_type": "code",
   "execution_count": 13,
   "metadata": {},
   "outputs": [
    {
     "data": {
      "text/plain": [
       "array('i', [3, 2, 0, 0, 4, 0, 4])"
      ]
     },
     "execution_count": 13,
     "metadata": {},
     "output_type": "execute_result"
    }
   ],
   "source": [
    "ranges = firewall_array(test_input())\n",
    "ranges"
   ]
  },
  {
   "cell_type": "code",
   "execution_count": 14,
   "metadata": {},
   "outputs": [],
   "source": [
    "assert find_start2(ranges) == 10"
   ]
  },
  {
   "cell_type": "code",
   "execution_count": 15,
   "metadata": {},
   "outputs": [],
   "source": [
    "puzzle_ranges = firewall_array(puzzle_input())"
   ]
  },
  {
   "cell_type": "code",
   "execution_count": 18,
   "metadata": {
    "scrolled": true
   },
   "outputs": [
    {
     "name": "stdout",
     "output_type": "stream",
     "text": [
      "52.6 ms ± 1.62 ms per loop (mean ± std. dev. of 7 runs, 10 loops each)\n"
     ]
    }
   ],
   "source": [
    "%timeit find_start2(puzzle_ranges)"
   ]
  },
  {
   "cell_type": "markdown",
   "metadata": {},
   "source": [
    "## Numba"
   ]
  },
  {
   "cell_type": "code",
   "execution_count": 19,
   "metadata": {},
   "outputs": [],
   "source": [
    "import numpy as np\n",
    "from numba import boolean, int32, jit"
   ]
  },
  {
   "cell_type": "code",
   "execution_count": 20,
   "metadata": {},
   "outputs": [],
   "source": [
    "@jit(int32(int32, int32), nopython=True)\n",
    "def py_scanner_layer(scanner_range, t):\n",
    "    sr = scanner_range - 1\n",
    "    scx2 = sr * 2\n",
    "    t_mod_scx2 = t % scx2  \n",
    "    return t_mod_scx2 if t_mod_scx2 <= sr else scx2 - t_mod_scx2\n",
    "\n",
    "\n",
    "@jit(boolean(int32[:], int32, int32), nopython=True)\n",
    "def py_attempt_crossing(ranges, num_layers, t_start):\n",
    "    for pos in range(num_layers):\n",
    "        if ranges[pos] != 0:\n",
    "            scanner_pos = py_scanner_layer(ranges[pos], t_start + pos)\n",
    "            if scanner_pos == 0:\n",
    "                return False\n",
    "    return True\n",
    "\n",
    "\n",
    "@jit(int32(int32[:]), nopython=True)\n",
    "def py_find_start(ranges):\n",
    "    t_start = 0\n",
    "    num_layers = len(ranges)\n",
    "    while True:\n",
    "        if py_attempt_crossing(ranges, num_layers, t_start):\n",
    "            break\n",
    "        else:\n",
    "            t_start += 1\n",
    "    return t_start"
   ]
  },
  {
   "cell_type": "code",
   "execution_count": 21,
   "metadata": {},
   "outputs": [],
   "source": [
    "assert py_find_start(np.int32(firewall_array(test_input()))) == 10"
   ]
  },
  {
   "cell_type": "code",
   "execution_count": 22,
   "metadata": {},
   "outputs": [],
   "source": [
    "puzzle_ranges = np.int32(firewall_array(puzzle_input()))"
   ]
  },
  {
   "cell_type": "code",
   "execution_count": 23,
   "metadata": {},
   "outputs": [
    {
     "name": "stdout",
     "output_type": "stream",
     "text": [
      "70.3 ms ± 3.4 ms per loop (mean ± std. dev. of 7 runs, 10 loops each)\n"
     ]
    }
   ],
   "source": [
    "%timeit py_find_start(puzzle_ranges)"
   ]
  },
  {
   "cell_type": "markdown",
   "metadata": {},
   "source": [
    "## Cython Algorithm but Plain Python"
   ]
  },
  {
   "cell_type": "code",
   "execution_count": 22,
   "metadata": {},
   "outputs": [],
   "source": [
    "def py_scanner_layer(scanner_range: int, t: int) -> int:\n",
    "    sr = scanner_range - 1\n",
    "    scx2 = sr * 2\n",
    "    t_mod_scx2 = t % scx2  \n",
    "    return t_mod_scx2 if t_mod_scx2 <= sr else scx2 - t_mod_scx2\n",
    "\n",
    "def py_attempt_crossing(firewall: dict, num_layers: int, t_start: int) -> bool:\n",
    "    for pos in range(num_layers):\n",
    "        if pos in firewall:\n",
    "            scanner_range = firewall[pos]\n",
    "            scanner_pos = py_scanner_layer(scanner_range, t_start + pos)\n",
    "            if scanner_pos == 0:\n",
    "                return False\n",
    "    return True\n",
    "\n",
    "def py_find_start(firewall: dict) -> int:\n",
    "    t_start = 0\n",
    "    num_layers = max(firewall.keys()) + 1\n",
    "    while True:\n",
    "        if py_attempt_crossing(firewall, num_layers, t_start):\n",
    "            break\n",
    "        else:\n",
    "            t_start += 1\n",
    "    return t_start"
   ]
  },
  {
   "cell_type": "code",
   "execution_count": 23,
   "metadata": {},
   "outputs": [],
   "source": [
    "assert py_find_start(test_input()) == 10"
   ]
  },
  {
   "cell_type": "code",
   "execution_count": 24,
   "metadata": {},
   "outputs": [
    {
     "name": "stdout",
     "output_type": "stream",
     "text": [
      "CPU times: user 6.54 s, sys: 41.1 ms, total: 6.58 s\n",
      "Wall time: 6.64 s\n"
     ]
    },
    {
     "data": {
      "text/plain": [
       "3823370"
      ]
     },
     "execution_count": 24,
     "metadata": {},
     "output_type": "execute_result"
    }
   ],
   "source": [
    "%time py_find_start(puzzle_input())"
   ]
  },
  {
   "cell_type": "code",
   "execution_count": null,
   "metadata": {},
   "outputs": [],
   "source": []
  }
 ],
 "metadata": {
  "kernelspec": {
   "display_name": "Python 3",
   "language": "python",
   "name": "python3"
  },
  "language_info": {
   "codemirror_mode": {
    "name": "ipython",
    "version": 3
   },
   "file_extension": ".py",
   "mimetype": "text/x-python",
   "name": "python",
   "nbconvert_exporter": "python",
   "pygments_lexer": "ipython3",
   "version": "3.6.4"
  }
 },
 "nbformat": 4,
 "nbformat_minor": 2
}
