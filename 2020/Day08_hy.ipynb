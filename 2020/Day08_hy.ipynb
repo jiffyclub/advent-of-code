{
 "cells": [
  {
   "cell_type": "markdown",
   "metadata": {},
   "source": [
    "# Part 1\n",
    "\n",
    "--- Day 8: Handheld Halting ---\n",
    "\n",
    "Your flight to the major airline hub reaches cruising altitude without incident. While you consider checking the in-flight menu for one of those drinks that come with a little umbrella, you are interrupted by the kid sitting next to you.\n",
    "\n",
    "Their handheld game console won't turn on! They ask if you can take a look.\n",
    "\n",
    "You narrow the problem down to a strange infinite loop in the boot code (your puzzle input) of the device. You should be able to fix it, but first you need to be able to run the code in isolation.\n",
    "\n",
    "The boot code is represented as a text file with one instruction per line of text. Each instruction consists of an operation (`acc`, `jmp`, or `nop`) and an argument (a signed number like `+4` or `-20`).\n",
    "\n",
    "`acc` increases or decreases a single global value called the `accumulator` by the value given in the argument. For example, `acc +7` would increase the accumulator by 7. The `accumulator` starts at 0. After an `acc` instruction, the instruction immediately below it is executed next.\n",
    "\n",
    "`jmp` jumps to a new instruction relative to itself. The next instruction to execute is found using the argument as an offset from the `jmp` instruction; for example, `jmp +2` would skip the next instruction, `jmp +1` would continue to the instruction immediately below it, and `jmp -20` would cause the instruction 20 lines above to be executed next.\n",
    "`nop` stands for No OPeration - it does nothing. The instruction immediately below it is executed next.\n",
    "For example, consider the following program:\n",
    "\n",
    "```\n",
    "nop +0\n",
    "acc +1\n",
    "jmp +4\n",
    "acc +3\n",
    "jmp -3\n",
    "acc -99\n",
    "acc +1\n",
    "jmp -4\n",
    "acc +6\n",
    "```\n",
    "\n",
    "These instructions are visited in this order:\n",
    "\n",
    "```\n",
    "nop +0  | 1\n",
    "acc +1  | 2, 8(!)\n",
    "jmp +4  | 3\n",
    "acc +3  | 6\n",
    "jmp -3  | 7\n",
    "acc -99 |\n",
    "acc +1  | 4\n",
    "jmp -4  | 5\n",
    "acc +6  |\n",
    "```\n",
    "\n",
    "First, the `nop +0` does nothing. Then, the `accumulator` is increased from 0 to 1 (`acc +1`) and `jmp +4` sets the next instruction to the other `acc +1` near the bottom. After it increases the accumulator from 1 to 2, `jmp -4` executes, setting the next instruction to the only `acc +3`. It sets the accumulator to 5, and jmp -3 causes the program to continue back at the first acc +1.\n",
    "\n",
    "This is an infinite loop: with this sequence of jumps, the program will run forever. The moment the program tries to run any instruction a second time, you know it will never terminate.\n",
    "\n",
    "Immediately before the program would run an instruction a second time, the value in the `accumulator` is 5.\n",
    "\n",
    "Run your copy of the boot code. Immediately before any instruction is executed a second time, what value is in the `accumulator`?"
   ]
  },
  {
   "cell_type": "code",
   "execution_count": 1,
   "metadata": {},
   "outputs": [],
   "source": [
    "(import [pathlib [Path]])"
   ]
  },
  {
   "cell_type": "code",
   "execution_count": 10,
   "metadata": {},
   "outputs": [],
   "source": [
    "(setv INPUT_FILE (/ (.cwd Path) \"inputs\" \"day08\" \"part1.txt\"))"
   ]
  },
  {
   "cell_type": "code",
   "execution_count": 3,
   "metadata": {},
   "outputs": [],
   "source": [
    "(defn input-lines []\n",
    "  (with [fp (.open INPUT_FILE)]\n",
    "    (yield-from (gfor line fp (.strip line)))))"
   ]
  },
  {
   "cell_type": "code",
   "execution_count": 4,
   "metadata": {},
   "outputs": [],
   "source": [
    "(defclass Instruction []\n",
    "  (defn __init__ [self instruction value]\n",
    "    (setv self.instruction instruction)\n",
    "    (setv self.value value)\n",
    "    (setv self.visit_count 0)))"
   ]
  },
  {
   "cell_type": "code",
   "execution_count": 5,
   "metadata": {},
   "outputs": [],
   "source": [
    "(defn parse-instruction [line]\n",
    "  (setv [instruction value] (.split line))\n",
    "  (Instruction instruction (int value)))"
   ]
  },
  {
   "cell_type": "code",
   "execution_count": 6,
   "metadata": {},
   "outputs": [],
   "source": [
    "(defn load-instructions []\n",
    "  (tuple (gfor line (input-lines) (parse-instruction line))))"
   ]
  },
  {
   "cell_type": "code",
   "execution_count": 14,
   "metadata": {},
   "outputs": [],
   "source": [
    "(defn run [instructions]\n",
    "  (setv accumulator 0)\n",
    "  (setv [instr index] (, (get instructions 0) 0))\n",
    "  (while (< instr.visit_count 1)\n",
    "    (+= instr.visit_count 1)\n",
    "    (setv [accumulator index]\n",
    "      (cond\n",
    "        [(= instr.instruction \"acc\") (, (+ accumulator instr.value) (inc index))]\n",
    "        [(= instr.instruction \"jmp\") (, accumulator (+ index instr.value))]\n",
    "        [(= instr.instruction \"nop\") (, accumulator (inc index))]))\n",
    "    (setv instr (get instructions index)))\n",
    "  accumulator)"
   ]
  },
  {
   "cell_type": "code",
   "execution_count": 15,
   "metadata": {},
   "outputs": [
    {
     "data": {
      "text/plain": [
       "1709"
      ]
     },
     "execution_count": 15,
     "metadata": {},
     "output_type": "execute_result"
    }
   ],
   "source": [
    "(run (load-instructions))"
   ]
  },
  {
   "cell_type": "markdown",
   "metadata": {},
   "source": [
    "# Part 2\n",
    "\n",
    "After some careful analysis, you believe that exactly one instruction is corrupted.\n",
    "\n",
    "Somewhere in the program, either a jmp is supposed to be a nop, or a nop is supposed to be a jmp. (No acc instructions were harmed in the corruption of this boot code.)\n",
    "\n",
    "The program is supposed to terminate by attempting to execute an instruction immediately after the last instruction in the file. By changing exactly one jmp or nop, you can repair the boot code and make it terminate correctly.\n",
    "\n",
    "For example, consider the same program from above:\n",
    "\n",
    "```\n",
    "nop +0\n",
    "acc +1\n",
    "jmp +4\n",
    "acc +3\n",
    "jmp -3\n",
    "acc -99\n",
    "acc +1\n",
    "jmp -4\n",
    "acc +6\n",
    "```\n",
    "\n",
    "If you change the first instruction from `nop +0` to `jmp +0`, it would create a single-instruction infinite loop, never leaving that instruction. If you change almost any of the jmp instructions, the program will still eventually find another jmp instruction and loop forever.\n",
    "\n",
    "However, if you change the second-to-last instruction (from `jmp -4` to `nop -4`), the program terminates! The instructions are visited in this order:\n",
    "\n",
    "```\n",
    "nop +0  | 1\n",
    "acc +1  | 2\n",
    "jmp +4  | 3\n",
    "acc +3  |\n",
    "jmp -3  |\n",
    "acc -99 |\n",
    "acc +1  | 4\n",
    "nop -4  | 5\n",
    "acc +6  | 6\n",
    "```\n",
    "\n",
    "After the last instruction (`acc +6`), the program terminates by attempting to run the instruction below the last instruction in the file. With this change, after the program terminates, the accumulator contains the value 8 (`acc +1`, `acc +1`, `acc +6`).\n",
    "\n",
    "Fix the program so that it terminates normally by changing exactly one `jmp` (to `nop`) or `nop` (to `jmp`). What is the value of the accumulator after the program terminates?"
   ]
  },
  {
   "cell_type": "code",
   "execution_count": 26,
   "metadata": {},
   "outputs": [],
   "source": [
    "(defn swap [instr]\n",
    "  (if (= instr.instruction \"jmp\")\n",
    "    (setv instr.instruction \"nop\")\n",
    "    (setv instr.instruction \"jmp\")))\n",
    "\n",
    "(defn iter-and-change [instructions]\n",
    "  (for [instr (gfor instr instructions :if (in instr.instruction #{\"jmp\" \"nop\"}) instr)]\n",
    "    (swap instr)\n",
    "    (yield instructions)\n",
    "    (swap instr)\n",
    "    (lfor instr instructions (setv instr.visit_count 0))))"
   ]
  },
  {
   "cell_type": "code",
   "execution_count": 20,
   "metadata": {},
   "outputs": [],
   "source": [
    "(defn try-run [instructions]\n",
    "  (setv accumulator 0)\n",
    "  (setv [instr index] (, (get instructions 0) 0))\n",
    "  (while (< instr.visit_count 1)\n",
    "    (+= instr.visit_count 1)\n",
    "    (setv [accumulator index]\n",
    "      (cond\n",
    "        [(= instr.instruction \"acc\") (, (+ accumulator instr.value) (inc index))]\n",
    "        [(= instr.instruction \"jmp\") (, accumulator (+ index instr.value))]\n",
    "        [(= instr.instruction \"nop\") (, accumulator (inc index))]))\n",
    "    (when (= index (len instructions)) (return (, True accumulator)))\n",
    "    (setv instr (get instructions index)))\n",
    "  (, False accumulator))"
   ]
  },
  {
   "cell_type": "code",
   "execution_count": 21,
   "metadata": {},
   "outputs": [
    {
     "data": {
      "text/plain": [
       "(False, 1709)"
      ]
     },
     "execution_count": 21,
     "metadata": {},
     "output_type": "execute_result"
    }
   ],
   "source": [
    "(try-run (load-instructions))"
   ]
  },
  {
   "cell_type": "code",
   "execution_count": 30,
   "metadata": {},
   "outputs": [
    {
     "data": {
      "text/plain": [
       "(True, 1976)"
      ]
     },
     "execution_count": 30,
     "metadata": {},
     "output_type": "execute_result"
    }
   ],
   "source": [
    "(some\n",
    "  (fn [result] (when (get result 0) result))\n",
    "  (gfor instructions (iter-and-change (load-instructions)) (try-run instructions)))"
   ]
  },
  {
   "cell_type": "code",
   "execution_count": null,
   "metadata": {},
   "outputs": [],
   "source": []
  }
 ],
 "metadata": {
  "kernelspec": {
   "display_name": "Calysto Hy",
   "language": "hy",
   "name": "calysto_hy"
  },
  "language_info": {
   "codemirror_mode": {
    "name": "scheme"
   },
   "mimetype": "text/x-hylang",
   "name": "hy",
   "pygments_lexer": "lisp"
  }
 },
 "nbformat": 4,
 "nbformat_minor": 4
}
