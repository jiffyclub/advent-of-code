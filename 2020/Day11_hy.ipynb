{
 "cells": [
  {
   "cell_type": "markdown",
   "metadata": {},
   "source": [
    "# Part 1\n",
    "\n",
    "--- Day 11: Seating System ---\n",
    "\n",
    "Your plane lands with plenty of time to spare. The final leg of your journey is a ferry that goes directly to the tropical island where you can finally start your vacation. As you reach the waiting area to board the ferry, you realize you're so early, nobody else has even arrived yet!\n",
    "\n",
    "By modeling the process people use to choose (or abandon) their seat in the waiting area, you're pretty sure you can predict the best place to sit. You make a quick map of the seat layout (your puzzle input).\n",
    "\n",
    "The seat layout fits neatly on a grid. Each position is either floor (`.`), an empty seat (`L`), or an occupied seat (`#`). For example, the initial seat layout might look like this:\n",
    "\n",
    "```\n",
    "L.LL.LL.LL\n",
    "LLLLLLL.LL\n",
    "L.L.L..L..\n",
    "LLLL.LL.LL\n",
    "L.LL.LL.LL\n",
    "L.LLLLL.LL\n",
    "..L.L.....\n",
    "LLLLLLLLLL\n",
    "L.LLLLLL.L\n",
    "L.LLLLL.LL\n",
    "```\n",
    "\n",
    "Now, you just need to model the people who will be arriving shortly. Fortunately, people are entirely predictable and always follow a simple set of rules. All decisions are based on the number of occupied seats adjacent to a given seat (one of the eight positions immediately up, down, left, right, or diagonal from the seat). The following rules are applied to every seat simultaneously:\n",
    "\n",
    "- If a seat is empty (`L`) and there are no occupied seats adjacent to it, the seat becomes occupied.\n",
    "- If a seat is occupied (`#`) and four or more seats adjacent to it are also occupied, the seat becomes empty.\n",
    "- Otherwise, the seat's state does not change.\n",
    "- Floor (`.`) never changes; seats don't move, and nobody sits on the floor.\n",
    "\n",
    "After one round of these rules, every seat in the example layout becomes occupied:\n",
    "\n",
    "```\n",
    "#.##.##.##\n",
    "#######.##\n",
    "#.#.#..#..\n",
    "####.##.##\n",
    "#.##.##.##\n",
    "#.#####.##\n",
    "..#.#.....\n",
    "##########\n",
    "#.######.#\n",
    "#.#####.##\n",
    "```\n",
    "\n",
    "After a second round, the seats with four or more occupied adjacent seats become empty again:\n",
    "\n",
    "```\n",
    "#.LL.L#.##\n",
    "#LLLLLL.L#\n",
    "L.L.L..L..\n",
    "#LLL.LL.L#\n",
    "#.LL.LL.LL\n",
    "#.LLLL#.##\n",
    "..L.L.....\n",
    "#LLLLLLLL#\n",
    "#.LLLLLL.L\n",
    "#.#LLLL.##\n",
    "```\n",
    "\n",
    "This process continues for three more rounds:\n",
    "\n",
    "```\n",
    "#.##.L#.##\n",
    "#L###LL.L#\n",
    "L.#.#..#..\n",
    "#L##.##.L#\n",
    "#.##.LL.LL\n",
    "#.###L#.##\n",
    "..#.#.....\n",
    "#L######L#\n",
    "#.LL###L.L\n",
    "#.#L###.##\n",
    "```\n",
    "\n",
    "```\n",
    "#.#L.L#.##\n",
    "#LLL#LL.L#\n",
    "L.L.L..#..\n",
    "#LLL.##.L#\n",
    "#.LL.LL.LL\n",
    "#.LL#L#.##\n",
    "..L.L.....\n",
    "#L#LLLL#L#\n",
    "#.LLLLLL.L\n",
    "#.#L#L#.##\n",
    "```\n",
    "\n",
    "```\n",
    "#.#L.L#.##\n",
    "#LLL#LL.L#\n",
    "L.#.L..#..\n",
    "#L##.##.L#\n",
    "#.#L.LL.LL\n",
    "#.#L#L#.##\n",
    "..L.L.....\n",
    "#L#L##L#L#\n",
    "#.LLLLLL.L\n",
    "#.#L#L#.##\n",
    "```\n",
    "\n",
    "At this point, something interesting happens: the chaos stabilizes and further applications of these rules cause no seats to change state! Once people stop moving around, you count 37 occupied seats.\n",
    "\n",
    "Simulate your seating area by applying the seating rules repeatedly until no seats change state. How many seats end up occupied?"
   ]
  },
  {
   "cell_type": "code",
   "execution_count": 1,
   "metadata": {},
   "outputs": [],
   "source": [
    "(import [pathlib [Path]])"
   ]
  },
  {
   "cell_type": "code",
   "execution_count": 2,
   "metadata": {},
   "outputs": [],
   "source": [
    "(setv INPUT_FILE (/ (.cwd Path) \"inputs\" \"day11\" \"part1.txt\"))"
   ]
  },
  {
   "cell_type": "code",
   "execution_count": 3,
   "metadata": {},
   "outputs": [],
   "source": [
    "(defn input-lines []\n",
    "  (with [fp (.open INPUT_FILE)]\n",
    "    (yield-from (gfor line fp (.strip line)))))"
   ]
  },
  {
   "cell_type": "code",
   "execution_count": 4,
   "metadata": {},
   "outputs": [],
   "source": [
    "(defn input-grid []\n",
    "  (tuple (gfor line (input-lines) (tuple line))))"
   ]
  },
  {
   "cell_type": "code",
   "execution_count": 5,
   "metadata": {},
   "outputs": [],
   "source": [
    "(defn cell@ [grid row col]\n",
    "  (get (get grid row) col))"
   ]
  },
  {
   "cell_type": "code",
   "execution_count": 6,
   "metadata": {},
   "outputs": [],
   "source": [
    "(defn adjacent-cells [grid row col]\n",
    "  (setv row-start (max 0 (dec row)))\n",
    "  (setv row-end (min (dec (len grid)) (inc row)))\n",
    "  (setv col-start (max 0 (dec col)))\n",
    "  (setv col-end (min (dec (len (get grid 0))) (inc col)))\n",
    "  (for [[r c] (product (range row-start (inc row-end)) (range col-start (inc col-end)))]\n",
    "    (unless (and (= r row) (= c col))\n",
    "      (yield (cell@ grid r c)))))"
   ]
  },
  {
   "cell_type": "code",
   "execution_count": 7,
   "metadata": {},
   "outputs": [],
   "source": [
    "(defn adjacent-occupied [grid row col]\n",
    "  (sum (gfor cell (adjacent-cells grid row col) (= cell \"#\"))))"
   ]
  },
  {
   "cell_type": "code",
   "execution_count": 8,
   "metadata": {},
   "outputs": [],
   "source": [
    "(defn new-value [grid row col]\n",
    "  (setv cell (cell@ grid row col))\n",
    "  (cond\n",
    "    [(= cell \"L\") (if (= (adjacent-occupied grid row col) 0) \"#\" \"L\")]\n",
    "    [(= cell \"#\") (if (>= (adjacent-occupied grid row col) 4) \"L\" \"#\")]\n",
    "    [(= cell \".\") \".\"]))"
   ]
  },
  {
   "cell_type": "code",
   "execution_count": 9,
   "metadata": {},
   "outputs": [],
   "source": [
    "(defn do-cycle [grid]\n",
    "  (setv rows (len grid))\n",
    "  (setv cols (len (get grid 0)))\n",
    "  (tuple\n",
    "    (gfor\n",
    "      row\n",
    "      (range rows)\n",
    "      (tuple\n",
    "        (gfor\n",
    "          col\n",
    "          (range cols)\n",
    "          (new-value grid row col))))))"
   ]
  },
  {
   "cell_type": "code",
   "execution_count": 10,
   "metadata": {},
   "outputs": [],
   "source": [
    "(defn run-model [grid]\n",
    "  (setv next-grid (do-cycle grid))\n",
    "  (while (!= grid next-grid)\n",
    "    (setv [grid next-grid] [next-grid (do-cycle next-grid)]))\n",
    "  next-grid)"
   ]
  },
  {
   "cell_type": "code",
   "execution_count": 11,
   "metadata": {},
   "outputs": [],
   "source": [
    "(setv result (do-cycle (run-model (input-grid))))"
   ]
  },
  {
   "cell_type": "code",
   "execution_count": 12,
   "metadata": {},
   "outputs": [
    {
     "data": {
      "text/plain": [
       "2368"
      ]
     },
     "execution_count": 12,
     "metadata": {},
     "output_type": "execute_result"
    }
   ],
   "source": [
    "(sum (gfor char (flatten result) (= char \"#\")))"
   ]
  },
  {
   "cell_type": "markdown",
   "metadata": {},
   "source": [
    "# Part 2\n",
    "\n",
    "As soon as people start to arrive, you realize your mistake. People don't just care about adjacent seats - they care about the first seat they can see in each of those eight directions!\n",
    "\n",
    "Now, instead of considering just the eight immediately adjacent seats, consider the first seat in each of those eight directions. For example, the empty seat below would see eight occupied seats:\n",
    "\n",
    "```\n",
    ".......#.\n",
    "...#.....\n",
    ".#.......\n",
    ".........\n",
    "..#L....#\n",
    "....#....\n",
    ".........\n",
    "#........\n",
    "...#.....\n",
    "```\n",
    "\n",
    "The leftmost empty seat below would only see one empty seat, but cannot see any of the occupied ones:\n",
    "\n",
    "```\n",
    ".............\n",
    ".L.L.#.#.#.#.\n",
    ".............\n",
    "```\n",
    "\n",
    "The empty seat below would see no occupied seats:\n",
    "\n",
    "```\n",
    ".##.##.\n",
    "#.#.#.#\n",
    "##...##\n",
    "...L...\n",
    "##...##\n",
    "#.#.#.#\n",
    ".##.##.\n",
    "```\n",
    "\n",
    "Also, people seem to be more tolerant than you expected: it now takes five or more visible occupied seats for an occupied seat to become empty (rather than four or more from the previous rules). The other rules still apply: empty seats that see no occupied seats become occupied, seats matching no rule don't change, and floor never changes.\n",
    "\n",
    "Given the same starting layout as above, these new rules cause the seating area to shift around as follows:\n",
    "\n",
    "```\n",
    "L.LL.LL.LL\n",
    "LLLLLLL.LL\n",
    "L.L.L..L..\n",
    "LLLL.LL.LL\n",
    "L.LL.LL.LL\n",
    "L.LLLLL.LL\n",
    "..L.L.....\n",
    "LLLLLLLLLL\n",
    "L.LLLLLL.L\n",
    "L.LLLLL.LL\n",
    "```\n",
    "\n",
    "```\n",
    "#.##.##.##\n",
    "#######.##\n",
    "#.#.#..#..\n",
    "####.##.##\n",
    "#.##.##.##\n",
    "#.#####.##\n",
    "..#.#.....\n",
    "##########\n",
    "#.######.#\n",
    "#.#####.##\n",
    "```\n",
    "\n",
    "```\n",
    "#.LL.LL.L#\n",
    "#LLLLLL.LL\n",
    "L.L.L..L..\n",
    "LLLL.LL.LL\n",
    "L.LL.LL.LL\n",
    "L.LLLLL.LL\n",
    "..L.L.....\n",
    "LLLLLLLLL#\n",
    "#.LLLLLL.L\n",
    "#.LLLLL.L#\n",
    "```\n",
    "\n",
    "```\n",
    "#.L#.##.L#\n",
    "#L#####.LL\n",
    "L.#.#..#..\n",
    "##L#.##.##\n",
    "#.##.#L.##\n",
    "#.#####.#L\n",
    "..#.#.....\n",
    "LLL####LL#\n",
    "#.L#####.L\n",
    "#.L####.L#\n",
    "```\n",
    "\n",
    "```\n",
    "#.L#.L#.L#\n",
    "#LLLLLL.LL\n",
    "L.L.L..#..\n",
    "##LL.LL.L#\n",
    "L.LL.LL.L#\n",
    "#.LLLLL.LL\n",
    "..L.L.....\n",
    "LLLLLLLLL#\n",
    "#.LLLLL#.L\n",
    "#.L#LL#.L#\n",
    "```\n",
    "\n",
    "```\n",
    "#.L#.L#.L#\n",
    "#LLLLLL.LL\n",
    "L.L.L..#..\n",
    "##L#.#L.L#\n",
    "L.L#.#L.L#\n",
    "#.L####.LL\n",
    "..#.#.....\n",
    "LLL###LLL#\n",
    "#.LLLLL#.L\n",
    "#.L#LL#.L#\n",
    "```\n",
    "\n",
    "```\n",
    "#.L#.L#.L#\n",
    "#LLLLLL.LL\n",
    "L.L.L..#..\n",
    "##L#.#L.L#\n",
    "L.L#.LL.L#\n",
    "#.LLLL#.LL\n",
    "..#.L.....\n",
    "LLL###LLL#\n",
    "#.LLLLL#.L\n",
    "#.L#LL#.L#\n",
    "```\n",
    "\n",
    "Again, at this point, people stop shifting around and the seating area reaches equilibrium. Once this occurs, you count 26 occupied seats.\n",
    "\n",
    "Given the new visibility method and the rule change for occupied seats becoming empty, once equilibrium is reached, how many seats end up occupied?"
   ]
  },
  {
   "cell_type": "code",
   "execution_count": 13,
   "metadata": {},
   "outputs": [],
   "source": [
    "(defn seat? [char]\n",
    "  (when (in char [\"L\" \"#\"])\n",
    "    char))"
   ]
  },
  {
   "cell_type": "code",
   "execution_count": 14,
   "metadata": {},
   "outputs": [],
   "source": [
    "(defn seat-north [grid row col]\n",
    "  (some\n",
    "    seat?\n",
    "    (gfor\n",
    "      r\n",
    "      (range (dec row) -1 -1)\n",
    "      (cell@ grid r col))))"
   ]
  },
  {
   "cell_type": "code",
   "execution_count": 15,
   "metadata": {},
   "outputs": [],
   "source": [
    "(defn seat-south [grid row col]\n",
    "  (some\n",
    "    seat?\n",
    "    (gfor\n",
    "      r\n",
    "      (range (inc row) (len grid))\n",
    "      (cell@ grid r col))))"
   ]
  },
  {
   "cell_type": "code",
   "execution_count": 17,
   "metadata": {},
   "outputs": [],
   "source": [
    "(defn seat-west [grid row col]\n",
    "  (some\n",
    "    seat?\n",
    "    (gfor\n",
    "      c\n",
    "      (range (dec col) -1 -1)\n",
    "      (cell@ grid row c))))"
   ]
  },
  {
   "cell_type": "code",
   "execution_count": 16,
   "metadata": {},
   "outputs": [],
   "source": [
    "(defn seat-east [grid row col]\n",
    "  (some\n",
    "    seat?\n",
    "    (gfor\n",
    "      c\n",
    "      (range (inc col) (len (get grid 0)))\n",
    "      (cell@ grid row c))))"
   ]
  },
  {
   "cell_type": "code",
   "execution_count": 19,
   "metadata": {},
   "outputs": [],
   "source": [
    "(defn seat-ne [grid row col]\n",
    "  ; row -\n",
    "  ; col +\n",
    "  (some\n",
    "    seat?\n",
    "    (gfor\n",
    "      [r c]\n",
    "      (zip (range (dec row) -1 -1) (range (inc col) (len (get grid 0))))\n",
    "      (cell@ grid r c))))"
   ]
  },
  {
   "cell_type": "code",
   "execution_count": 18,
   "metadata": {},
   "outputs": [],
   "source": [
    "(defn seat-se [grid row col]\n",
    "  ; row +\n",
    "  ; col +\n",
    "  (some\n",
    "    seat?\n",
    "    (gfor\n",
    "      [r c]\n",
    "      (zip (range (inc row) (len grid)) (range (inc col) (len (get grid 0))))\n",
    "      (cell@ grid r c))))"
   ]
  },
  {
   "cell_type": "code",
   "execution_count": 20,
   "metadata": {},
   "outputs": [],
   "source": [
    "(defn seat-sw [grid row col]\n",
    "  ; row +\n",
    "  ; col -\n",
    "  (some\n",
    "    seat?\n",
    "    (gfor\n",
    "      [r c]\n",
    "      (zip (range (inc row) (len grid)) (range (dec col) -1 -1))\n",
    "      (cell@ grid r c))))"
   ]
  },
  {
   "cell_type": "code",
   "execution_count": 21,
   "metadata": {},
   "outputs": [],
   "source": [
    "(defn seat-nw [grid row col]\n",
    "  ; row -\n",
    "  ; col -\n",
    "  (some\n",
    "    seat?\n",
    "    (gfor\n",
    "      [r c]\n",
    "      (zip (range (dec row) -1 -1) (range (dec col) -1 -1))\n",
    "      (cell@ grid r c))))"
   ]
  },
  {
   "cell_type": "code",
   "execution_count": 22,
   "metadata": {},
   "outputs": [],
   "source": [
    "(defn visible-seats [grid row col]\n",
    "  (yield-from\n",
    "    (remove\n",
    "      none? [\n",
    "      (seat-north grid row col)\n",
    "      (seat-east grid row col)\n",
    "      (seat-south grid row col)\n",
    "      (seat-west grid row col)\n",
    "      (seat-ne grid row col)\n",
    "      (seat-se grid row col)\n",
    "      (seat-sw grid row col)\n",
    "      (seat-nw grid row col)])))"
   ]
  },
  {
   "cell_type": "code",
   "execution_count": 23,
   "metadata": {},
   "outputs": [],
   "source": [
    "(defn visible-occupied [grid row col]\n",
    "  (sum (gfor seat (visible-seats grid row col) (= seat \"#\"))))"
   ]
  },
  {
   "cell_type": "code",
   "execution_count": 24,
   "metadata": {},
   "outputs": [],
   "source": [
    "(defn new-value2 [grid row col]\n",
    "  (setv cell (cell@ grid row col))\n",
    "  (cond\n",
    "    [(= cell \"L\") (if (= (visible-occupied grid row col) 0) \"#\" \"L\")]\n",
    "    [(= cell \"#\") (if (>= (visible-occupied grid row col) 5) \"L\" \"#\")]\n",
    "    [(= cell \".\") \".\"]))"
   ]
  },
  {
   "cell_type": "code",
   "execution_count": 25,
   "metadata": {},
   "outputs": [
    {
     "data": {
      "text/plain": [
       "['L', 'L', 'L', 'L', 'L', 'L', 'L', 'L']"
      ]
     },
     "execution_count": 25,
     "metadata": {},
     "output_type": "execute_result"
    }
   ],
   "source": [
    "(list (visible-seats (input-grid) 10 10))"
   ]
  },
  {
   "cell_type": "code",
   "execution_count": 26,
   "metadata": {},
   "outputs": [
    {
     "data": {
      "text/plain": [
       "0"
      ]
     },
     "execution_count": 26,
     "metadata": {},
     "output_type": "execute_result"
    }
   ],
   "source": [
    "(visible-occupied (input-grid) 10 10)"
   ]
  },
  {
   "cell_type": "code",
   "execution_count": 27,
   "metadata": {},
   "outputs": [],
   "source": [
    "(defn do-cycle2 [grid]\n",
    "  (setv rows (len grid))\n",
    "  (setv cols (len (get grid 0)))\n",
    "  (tuple\n",
    "    (gfor\n",
    "      row\n",
    "      (range rows)\n",
    "      (tuple\n",
    "        (gfor\n",
    "          col\n",
    "          (range cols)\n",
    "          (new-value2 grid row col))))))"
   ]
  },
  {
   "cell_type": "code",
   "execution_count": 28,
   "metadata": {},
   "outputs": [],
   "source": [
    "(defn run-model2 [grid]\n",
    "  (setv next-grid (do-cycle2 grid))\n",
    "  (while (!= grid next-grid)\n",
    "    (setv [grid next-grid] [next-grid (do-cycle2 next-grid)]))\n",
    "  next-grid)"
   ]
  },
  {
   "cell_type": "code",
   "execution_count": 29,
   "metadata": {},
   "outputs": [],
   "source": [
    "(setv result2 (run-model2 (input-grid)))"
   ]
  },
  {
   "cell_type": "code",
   "execution_count": 30,
   "metadata": {},
   "outputs": [
    {
     "data": {
      "text/plain": [
       "2124"
      ]
     },
     "execution_count": 30,
     "metadata": {},
     "output_type": "execute_result"
    }
   ],
   "source": [
    "(sum (gfor char (flatten result2) (= char \"#\")))"
   ]
  },
  {
   "cell_type": "code",
   "execution_count": null,
   "metadata": {},
   "outputs": [],
   "source": []
  }
 ],
 "metadata": {
  "kernelspec": {
   "display_name": "Calysto Hy",
   "language": "hy",
   "name": "calysto_hy"
  },
  "language_info": {
   "codemirror_mode": {
    "name": "scheme"
   },
   "mimetype": "text/x-hylang",
   "name": "hy",
   "pygments_lexer": "lisp"
  }
 },
 "nbformat": 4,
 "nbformat_minor": 4
}
