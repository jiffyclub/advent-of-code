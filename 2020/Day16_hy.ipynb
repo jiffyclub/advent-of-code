{
 "cells": [
  {
   "cell_type": "markdown",
   "metadata": {},
   "source": [
    "# Part 1\n",
    "\n",
    "--- Day 16: Ticket Translation ---\n",
    "\n",
    "As you're walking to yet another connecting flight, you realize that one of the legs of your re-routed trip coming up is on a high-speed train. However, the train ticket you were given is in a language you don't understand. You should probably figure out what it says before you get to the train station after the next flight.\n",
    "\n",
    "Unfortunately, you can't actually read the words on the ticket. You can, however, read the numbers, and so you figure out the fields these tickets must have and the valid ranges for values in those fields.\n",
    "\n",
    "You collect the rules for ticket fields, the numbers on your ticket, and the numbers on other nearby tickets for the same train service (via the airport security cameras) together into a single document you can reference (your puzzle input).\n",
    "\n",
    "The rules for ticket fields specify a list of fields that exist somewhere on the ticket and the valid ranges of values for each field. For example, a rule like `class: 1-3 or 5-7` means that one of the fields in every ticket is named `class` and can be any value in the ranges `1-3` or `5-7` (inclusive, such that 3 and 5 are both valid in this field, but 4 is not).\n",
    "\n",
    "Each ticket is represented by a single line of comma-separated values. The values are the numbers on the ticket in the order they appear; every ticket has the same format. For example, consider this ticket:\n",
    "\n",
    "```\n",
    ".--------------------------------------------------------.\n",
    "| ????: 101    ?????: 102   ??????????: 103     ???: 104 |\n",
    "|                                                        |\n",
    "| ??: 301  ??: 302             ???????: 303      ??????? |\n",
    "| ??: 401  ??: 402           ???? ????: 403    ????????? |\n",
    "'--------------------------------------------------------'\n",
    "```\n",
    "\n",
    "Here, ? represents text in a language you don't understand. This ticket might be represented as `101,102,103,104,301,302,303,401,402,403`; of course, the actual train tickets you're looking at are much more complicated. In any case, you've extracted just the numbers in such a way that the first number is always the same specific field, the second number is always a different specific field, and so on - you just don't know what each position actually means!\n",
    "\n",
    "Start by determining which tickets are completely invalid; these are tickets that contain values which aren't valid for any field. Ignore your ticket for now.\n",
    "\n",
    "For example, suppose you have the following notes:\n",
    "\n",
    "```\n",
    "class: 1-3 or 5-7\n",
    "row: 6-11 or 33-44\n",
    "seat: 13-40 or 45-50\n",
    "\n",
    "your ticket:\n",
    "7,1,14\n",
    "\n",
    "nearby tickets:\n",
    "7,3,47\n",
    "40,4,50\n",
    "55,2,20\n",
    "38,6,12\n",
    "```\n",
    "\n",
    "It doesn't matter which position corresponds to which field; you can identify invalid nearby tickets by considering only whether tickets contain values that are not valid for any field. In this example, the values on the first nearby ticket are all valid for at least one field. This is not true of the other three nearby tickets: the values 4, 55, and 12 are are not valid for any field. Adding together all of the invalid values produces your ticket scanning error rate: `4 + 55 + 12 = 71`.\n",
    "\n",
    "Consider the validity of the nearby tickets you scanned. What is your ticket scanning error rate?"
   ]
  },
  {
   "cell_type": "code",
   "execution_count": 1,
   "metadata": {},
   "outputs": [],
   "source": [
    "(import [dataclasses [dataclass]])\n",
    "(import [pathlib [Path]])"
   ]
  },
  {
   "cell_type": "code",
   "execution_count": 2,
   "metadata": {},
   "outputs": [],
   "source": [
    "(setv INPUT_FILE (/ (.cwd Path) \"inputs\" \"day16\" \"part1.txt\"))"
   ]
  },
  {
   "cell_type": "code",
   "execution_count": 3,
   "metadata": {},
   "outputs": [],
   "source": [
    "(defn input-lines []\n",
    "  (with [fp (.open INPUT_FILE)]\n",
    "    (yield-from (gfor line fp (.strip line)))))"
   ]
  },
  {
   "cell_type": "code",
   "execution_count": 4,
   "metadata": {},
   "outputs": [],
   "source": [
    "(with-decorator dataclass\n",
    "  (defclass Range []\n",
    "    (^int low)\n",
    "    (^int high)\n",
    "    (defn within [self value]\n",
    "      (and (<= self.low value) (<= value self.high)))))"
   ]
  },
  {
   "cell_type": "code",
   "execution_count": 5,
   "metadata": {},
   "outputs": [],
   "source": [
    "(defn read-rule [line]\n",
    "  \"departure location: 29-917 or 943-952\"\n",
    "  (setv [label ranges] (line.split \": \"))\n",
    "  (setv ranges\n",
    "    (tuple\n",
    "      (gfor\n",
    "        range_\n",
    "        (ranges.split \" or \")\n",
    "        (Range #* (gfor value (range_.split \"-\") (int value))))))\n",
    "  (, label ranges))"
   ]
  },
  {
   "cell_type": "code",
   "execution_count": 6,
   "metadata": {},
   "outputs": [
    {
     "data": {
      "text/plain": [
       "('departure location', (Range(low=29, high=917), Range(low=943, high=952)))"
      ]
     },
     "execution_count": 6,
     "metadata": {},
     "output_type": "execute_result"
    }
   ],
   "source": [
    "(read-rule \"departure location: 29-917 or 943-952\")"
   ]
  },
  {
   "cell_type": "code",
   "execution_count": 7,
   "metadata": {},
   "outputs": [],
   "source": [
    "(defn read-rules [lines]\n",
    "  (dict (gfor line lines (read-rule line))))"
   ]
  },
  {
   "cell_type": "code",
   "execution_count": 8,
   "metadata": {},
   "outputs": [],
   "source": [
    "(defn read-ticket [line]\n",
    "  \"191,89,73,139,71,103,109,53,97,179,59,67,79,101,113,157,61,107,181,137\"\n",
    "  (tuple (gfor value (line.split \",\") (int value))))"
   ]
  },
  {
   "cell_type": "code",
   "execution_count": 9,
   "metadata": {},
   "outputs": [
    {
     "data": {
      "text/plain": [
       "(191, 89, 73, 139, 71, 103, 109, 53, 97, 179, 59, 67, 79, 101, 113, 157, 61, 107, 181, 137)"
      ]
     },
     "execution_count": 9,
     "metadata": {},
     "output_type": "execute_result"
    }
   ],
   "source": [
    "(read-ticket \"191,89,73,139,71,103,109,53,97,179,59,67,79,101,113,157,61,107,181,137\")"
   ]
  },
  {
   "cell_type": "code",
   "execution_count": 10,
   "metadata": {},
   "outputs": [],
   "source": [
    "(defn read-my-ticket [lines]\n",
    "  (read-ticket (nth lines 1)))"
   ]
  },
  {
   "cell_type": "code",
   "execution_count": 11,
   "metadata": {},
   "outputs": [],
   "source": [
    "(defn load-inputs [lines]\n",
    "  (,\n",
    "    (read-rules (take-while identity lines))\n",
    "    (read-my-ticket (take-while identity lines))\n",
    "    (tuple (gfor line (islice lines 2 None) (read-ticket line)))))"
   ]
  },
  {
   "cell_type": "code",
   "execution_count": 12,
   "metadata": {},
   "outputs": [],
   "source": [
    "(defn num-invalid-all [num ranges]\n",
    "  (all (gfor range_ ranges (not (range_.within num)))))"
   ]
  },
  {
   "cell_type": "code",
   "execution_count": 13,
   "metadata": {},
   "outputs": [],
   "source": [
    "(defn invalid-values [nums ranges]\n",
    "  (for [num nums] (when (num-invalid-all num ranges) (yield num))))"
   ]
  },
  {
   "cell_type": "code",
   "execution_count": 14,
   "metadata": {},
   "outputs": [],
   "source": [
    "(setv TEST-RANGES [(Range 1 3) (Range 5 7) (Range 6 11) (Range 33 44) (Range 13 40) (Range 45 50)])"
   ]
  },
  {
   "cell_type": "code",
   "execution_count": 15,
   "metadata": {},
   "outputs": [
    {
     "data": {
      "text/plain": [
       "[]"
      ]
     },
     "execution_count": 15,
     "metadata": {},
     "output_type": "execute_result"
    }
   ],
   "source": [
    "(list (invalid-values [7 3 47] TEST-RANGES))"
   ]
  },
  {
   "cell_type": "code",
   "execution_count": 16,
   "metadata": {},
   "outputs": [
    {
     "data": {
      "text/plain": [
       "[12]"
      ]
     },
     "execution_count": 16,
     "metadata": {},
     "output_type": "execute_result"
    }
   ],
   "source": [
    "(list (invalid-values [38 6 12] TEST-RANGES))"
   ]
  },
  {
   "cell_type": "code",
   "execution_count": 17,
   "metadata": {},
   "outputs": [],
   "source": [
    "(setv [RULES MY-TICKET TICKETS] (load-inputs (input-lines)))"
   ]
  },
  {
   "cell_type": "code",
   "execution_count": 18,
   "metadata": {},
   "outputs": [
    {
     "data": {
      "text/plain": [
       "23925"
      ]
     },
     "execution_count": 18,
     "metadata": {},
     "output_type": "execute_result"
    }
   ],
   "source": [
    "(sum (invalid-values (flatten TICKETS) (flatten (RULES.values))))"
   ]
  },
  {
   "cell_type": "markdown",
   "metadata": {},
   "source": [
    "# Part 2\n",
    "\n",
    "Now that you've identified which tickets contain invalid values, discard those tickets entirely. Use the remaining valid tickets to determine which field is which.\n",
    "\n",
    "Using the valid ranges for each field, determine what order the fields appear on the tickets. The order is consistent between all tickets: if seat is the third field, it is the third field on every ticket, including your ticket.\n",
    "\n",
    "For example, suppose you have the following notes:\n",
    "\n",
    "```\n",
    "class: 0-1 or 4-19\n",
    "row: 0-5 or 8-19\n",
    "seat: 0-13 or 16-19\n",
    "\n",
    "your ticket:\n",
    "11,12,13\n",
    "\n",
    "nearby tickets:\n",
    "3,9,18\n",
    "15,1,5\n",
    "5,14,9\n",
    "```\n",
    "\n",
    "Based on the nearby tickets in the above example, the first position must be row, the second position must be class, and the third position must be seat; you can conclude that in your ticket, class is 12, row is 11, and seat is 13.\n",
    "\n",
    "Once you work out which field is which, look for the six fields on your ticket that start with the word departure. What do you get if you multiply those six values together?"
   ]
  },
  {
   "cell_type": "code",
   "execution_count": 19,
   "metadata": {},
   "outputs": [],
   "source": [
    "(import [collections [defaultdict]])"
   ]
  },
  {
   "cell_type": "code",
   "execution_count": 20,
   "metadata": {},
   "outputs": [],
   "source": [
    "(defn ticket-valid [nums ranges]\n",
    "  (all (gfor num nums (any (gfor range_ ranges (range_.within num))))))"
   ]
  },
  {
   "cell_type": "code",
   "execution_count": 21,
   "metadata": {},
   "outputs": [
    {
     "data": {
      "text/plain": [
       "True"
      ]
     },
     "execution_count": 21,
     "metadata": {},
     "output_type": "execute_result"
    }
   ],
   "source": [
    "(ticket-valid [7 3 47] TEST-RANGES)"
   ]
  },
  {
   "cell_type": "code",
   "execution_count": 22,
   "metadata": {},
   "outputs": [
    {
     "data": {
      "text/plain": [
       "False"
      ]
     },
     "execution_count": 22,
     "metadata": {},
     "output_type": "execute_result"
    }
   ],
   "source": [
    "(ticket-valid [38 6 12] TEST-RANGES)"
   ]
  },
  {
   "cell_type": "code",
   "execution_count": 23,
   "metadata": {},
   "outputs": [],
   "source": [
    "(defn valid-tickets [tickets ranges]\n",
    "  (gfor ticket tickets :if (ticket-valid ticket ranges) ticket))"
   ]
  },
  {
   "cell_type": "code",
   "execution_count": 24,
   "metadata": {},
   "outputs": [
    {
     "data": {
      "text/plain": [
       "190"
      ]
     },
     "execution_count": 24,
     "metadata": {},
     "output_type": "execute_result"
    }
   ],
   "source": [
    "(len (list (valid-tickets TICKETS (flatten (RULES.values)))))"
   ]
  },
  {
   "cell_type": "code",
   "execution_count": 25,
   "metadata": {},
   "outputs": [],
   "source": [
    "(defn all-within [nums ranges]\n",
    "  (all (gfor num nums (any (gfor range_ ranges (range_.within num))))))"
   ]
  },
  {
   "cell_type": "code",
   "execution_count": 26,
   "metadata": {},
   "outputs": [
    {
     "data": {
      "text/plain": [
       "True"
      ]
     },
     "execution_count": 26,
     "metadata": {},
     "output_type": "execute_result"
    }
   ],
   "source": [
    "(all-within [1 2 3 7 8 9] [(Range 1 3) (Range 7 9)])"
   ]
  },
  {
   "cell_type": "code",
   "execution_count": 27,
   "metadata": {},
   "outputs": [
    {
     "data": {
      "text/plain": [
       "False"
      ]
     },
     "execution_count": 27,
     "metadata": {},
     "output_type": "execute_result"
    }
   ],
   "source": [
    "(all-within [1 2 3 4 7 8 9] [(Range 1 3) (Range 7 9)])"
   ]
  },
  {
   "cell_type": "code",
   "execution_count": 38,
   "metadata": {},
   "outputs": [],
   "source": [
    "(defn narrow-fields [possible-labels]\n",
    "  (while (not (all (gfor labels (possible-labels.values) (= (len labels) 1))))\n",
    "    (setv single-possible\n",
    "      (sfor labels (possible-labels.values) :if (= (len labels) 1) (get labels 0)))\n",
    "    (for [[index labels] \n",
    "          (gfor [index labels] (possible-labels.items) :if (> (len labels) 1) [index labels])]\n",
    "      (assoc possible-labels index (tuple (remove (fn [value] (in value single-possible)) labels)))))\n",
    "  (dfor [index labels] (possible-labels.items) [index (get labels 0)]))"
   ]
  },
  {
   "cell_type": "code",
   "execution_count": 39,
   "metadata": {},
   "outputs": [],
   "source": [
    "(defn assign-fields [tickets rules]\n",
    "  (setv tickets (tuple tickets))\n",
    "  (setv possible-labels (defaultdict list))\n",
    "  (for [index (-> (first tickets) (len) (range))]\n",
    "    (for [[label ranges] (rules.items)]\n",
    "      (when (all-within (gfor ticket tickets (get ticket index)) ranges)\n",
    "        (.append (get possible-labels index) label))))\n",
    "  (narrow-fields possible-labels))"
   ]
  },
  {
   "cell_type": "code",
   "execution_count": 30,
   "metadata": {},
   "outputs": [],
   "source": [
    "(setv TEST-RULES {\"class\" (, (Range 0 1) (Range 4 19))\n",
    "                  \"row\" (, (Range 0 5) (Range 8 19))\n",
    "                  \"seat\" (, (Range 0 13) (Range 16 19))})"
   ]
  },
  {
   "cell_type": "code",
   "execution_count": 31,
   "metadata": {},
   "outputs": [],
   "source": [
    "(setv TEST-TICKETS (, (, 3 9 18) (, 15 1 5) (, 5 14 9)))"
   ]
  },
  {
   "cell_type": "code",
   "execution_count": 40,
   "metadata": {},
   "outputs": [
    {
     "data": {
      "text/plain": [
       "{0: 'row', 1: 'class', 2: 'seat'}"
      ]
     },
     "execution_count": 40,
     "metadata": {},
     "output_type": "execute_result"
    }
   ],
   "source": [
    "(assign-fields TEST-TICKETS TEST-RULES)"
   ]
  },
  {
   "cell_type": "code",
   "execution_count": 41,
   "metadata": {},
   "outputs": [],
   "source": [
    "(setv label-map (assign-fields (valid-tickets TICKETS (flatten (RULES.values))) RULES))"
   ]
  },
  {
   "cell_type": "code",
   "execution_count": 42,
   "metadata": {},
   "outputs": [],
   "source": [
    "(defn print-my-ticket [my-ticket label-map]\n",
    "  (for [[index value] (enumerate my-ticket)] (print (get label-map index) value)))"
   ]
  },
  {
   "cell_type": "code",
   "execution_count": 43,
   "metadata": {},
   "outputs": [
    {
     "name": "stdout",
     "output_type": "stream",
     "text": [
      "duration 191\n",
      "departure track 89\n",
      "departure station 73\n",
      "arrival platform 139\n",
      "zone 71\n",
      "departure location 103\n",
      "class 109\n",
      "train 53\n",
      "arrival track 97\n",
      "route 179\n",
      "price 59\n",
      "departure time 67\n",
      "row 79\n",
      "arrival location 101\n",
      "wagon 113\n",
      "departure platform 157\n",
      "type 61\n",
      "arrival station 107\n",
      "seat 181\n",
      "departure date 137\n"
     ]
    }
   ],
   "source": [
    "(print-my-ticket MY-TICKET label-map)"
   ]
  },
  {
   "cell_type": "code",
   "execution_count": 45,
   "metadata": {},
   "outputs": [
    {
     "data": {
      "text/plain": [
       "964373157673"
      ]
     },
     "execution_count": 45,
     "metadata": {},
     "output_type": "execute_result"
    }
   ],
   "source": [
    "(reduce * (gfor [index label] (label-map.items) :if (label.startswith \"departure\") (get MY-TICKET index)))"
   ]
  },
  {
   "cell_type": "code",
   "execution_count": null,
   "metadata": {},
   "outputs": [],
   "source": []
  }
 ],
 "metadata": {
  "kernelspec": {
   "display_name": "Calysto Hy",
   "language": "hy",
   "name": "calysto_hy"
  },
  "language_info": {
   "codemirror_mode": {
    "name": "scheme"
   },
   "mimetype": "text/x-hylang",
   "name": "hy",
   "pygments_lexer": "lisp"
  }
 },
 "nbformat": 4,
 "nbformat_minor": 4
}
