{
 "cells": [
  {
   "cell_type": "markdown",
   "metadata": {},
   "source": [
    "# Part 1\n",
    "\n",
    "--- Day 12: Rain Risk ---\n",
    "\n",
    "Your ferry made decent progress toward the island, but the storm came in faster than anyone expected. The ferry needs to take evasive actions!\n",
    "\n",
    "Unfortunately, the ship's navigation computer seems to be malfunctioning; rather than giving a route directly to safety, it produced extremely circuitous instructions. When the captain uses the PA system to ask if anyone can help, you quickly volunteer.\n",
    "\n",
    "The navigation instructions (your puzzle input) consists of a sequence of single-character actions paired with integer input values. After staring at them for a few minutes, you work out what they probably mean:\n",
    "\n",
    "- Action `N` means to move north by the given value.\n",
    "- Action `S` means to move south by the given value.\n",
    "- Action `E` means to move east by the given value.\n",
    "- Action `W` means to move west by the given value.\n",
    "- Action `L` means to turn left the given number of degrees.\n",
    "- Action `R` means to turn right the given number of degrees.\n",
    "- Action `F` means to move forward by the given value in the direction the ship is currently facing.\n",
    "\n",
    "The ship starts by facing east. Only the `L` and `R` actions change the direction the ship is facing. (That is, if the ship is facing east and the next instruction is `N10`, the ship would move north 10 units, but would still move east if the following action were `F`.)\n",
    "\n",
    "For example:\n",
    "\n",
    "```\n",
    "F10\n",
    "N3\n",
    "F7\n",
    "R90\n",
    "F11\n",
    "```\n",
    "\n",
    "These instructions would be handled as follows:\n",
    "\n",
    "- `F10` would move the ship 10 units east (because the ship starts by facing east) to east 10, north 0.\n",
    "- `N3` would move the ship 3 units north to east 10, north 3.\n",
    "- `F7` would move the ship another 7 units east (because the ship is still facing east) to east 17, north 3.\n",
    "- `R90` would cause the ship to turn right by 90 degrees and face south; it remains at east 17, north 3.\n",
    "- `F11` would move the ship 11 units south to east 17, south 8.\n",
    "\n",
    "At the end of these instructions, the ship's Manhattan distance (sum of the absolute values of its east/west position and its north/south position) from its starting position is `17 + 8 = 25`.\n",
    "\n",
    "Figure out where the navigation instructions lead. What is the Manhattan distance between that location and the ship's starting position?"
   ]
  },
  {
   "cell_type": "code",
   "execution_count": 14,
   "metadata": {},
   "outputs": [],
   "source": [
    "(import [dataclasses [dataclass field]])\n",
    "(import [pathlib [Path]])"
   ]
  },
  {
   "cell_type": "code",
   "execution_count": 2,
   "metadata": {},
   "outputs": [],
   "source": [
    "(setv INPUT_FILE (/ (.cwd Path) \"inputs\" \"day12\" \"part1.txt\"))"
   ]
  },
  {
   "cell_type": "code",
   "execution_count": 3,
   "metadata": {},
   "outputs": [],
   "source": [
    "(defn input-lines []\n",
    "  (with [fp (.open INPUT_FILE)]\n",
    "    (yield-from (gfor line fp (.strip line)))))"
   ]
  },
  {
   "cell_type": "code",
   "execution_count": 23,
   "metadata": {},
   "outputs": [],
   "source": [
    "(with-decorator dataclass\n",
    "  (defclass Instruction []\n",
    "    (^str direction)\n",
    "    (^int value)))"
   ]
  },
  {
   "cell_type": "code",
   "execution_count": 26,
   "metadata": {},
   "outputs": [],
   "source": [
    "(defn input-instructions []\n",
    "  (yield-from (gfor line (input-lines) (Instruction (get line 0) (int (cut line 1))))))"
   ]
  },
  {
   "cell_type": "code",
   "execution_count": 18,
   "metadata": {},
   "outputs": [],
   "source": [
    "(with-decorator dataclass\n",
    "  (defclass Ship []\n",
    "    (setv ^str facing (field :default \"E\" :init False))\n",
    "    (setv ^int north-south (field :default 0 :init False))\n",
    "    (setv ^int east-west (field :default 0 :init False))))"
   ]
  },
  {
   "cell_type": "code",
   "execution_count": 30,
   "metadata": {},
   "outputs": [],
   "source": [
    "(defn move-ship-direction [ship direction value]\n",
    "  ; north +, east +\n",
    "  (cond\n",
    "    [(= direction \"N\") (+= ship.north-south value)]\n",
    "    [(= direction \"S\") (-= ship.north-south value)]\n",
    "    [(= direction \"E\") (+= ship.east-west value)]\n",
    "    [(= direction \"W\") (-= ship.east-west value)]))"
   ]
  },
  {
   "cell_type": "code",
   "execution_count": 37,
   "metadata": {},
   "outputs": [],
   "source": [
    "(defn turn-ship [ship direction value]\n",
    "  ; N 0, E 90, S 180 W 270\n",
    "  (setv current-facing (get {\"N\" 0 \"E\" 90 \"S\" 180 \"W\" 270} ship.facing))\n",
    "  ; R +, L -\n",
    "  (setv new-facing\n",
    "    (if (= direction \"R\")\n",
    "      (% (+ current-facing value) 360)\n",
    "      (% (- current-facing value) 360)))\n",
    "  (setv ship.facing (get {0 \"N\" 90 \"E\" 180 \"S\" 270 \"W\"} new-facing)))"
   ]
  },
  {
   "cell_type": "code",
   "execution_count": 46,
   "metadata": {},
   "outputs": [],
   "source": [
    "(defn move-ship [ship instr]\n",
    "  ; north +, east +\n",
    "  (cond\n",
    "    [(in instr.direction \"NESW\") (move-ship-direction ship instr.direction instr.value)]\n",
    "    [(= instr.direction \"F\") (move-ship-direction ship ship.facing instr.value)]\n",
    "    [(in instr.direction \"RL\") (turn-ship ship instr.direction instr.value)]))"
   ]
  },
  {
   "cell_type": "code",
   "execution_count": 44,
   "metadata": {},
   "outputs": [],
   "source": [
    "(defn apply-instructions [ship instructions]\n",
    "  (list (map (fn [instr] (move-ship ship instr)) instructions))\n",
    "  ship)"
   ]
  },
  {
   "cell_type": "code",
   "execution_count": 47,
   "metadata": {},
   "outputs": [
    {
     "data": {
      "text/plain": [
       "Ship(facing='S', north_south=-147, east_west=791)"
      ]
     },
     "execution_count": 47,
     "metadata": {},
     "output_type": "execute_result"
    }
   ],
   "source": [
    "(apply-instructions (Ship) (input-instructions))"
   ]
  },
  {
   "cell_type": "code",
   "execution_count": 48,
   "metadata": {},
   "outputs": [
    {
     "data": {
      "text/plain": [
       "938"
      ]
     },
     "execution_count": 48,
     "metadata": {},
     "output_type": "execute_result"
    }
   ],
   "source": [
    "(+ 147 791)"
   ]
  },
  {
   "cell_type": "markdown",
   "metadata": {},
   "source": [
    "# Part 2\n",
    "\n",
    "Before you can give the destination to the captain, you realize that the actual action meanings were printed on the back of the instructions the whole time.\n",
    "\n",
    "Almost all of the actions indicate how to move a waypoint which is relative to the ship's position:\n",
    "\n",
    "- Action `N` means to move the waypoint north by the given value.\n",
    "- Action `S` means to move the waypoint south by the given value.\n",
    "- Action `E` means to move the waypoint east by the given value.\n",
    "- Action `W` means to move the waypoint west by the given value.\n",
    "- Action `L` means to rotate the waypoint around the ship left (counter-clockwise) the given number of degrees.\n",
    "- Action `R` means to rotate the waypoint around the ship right (clockwise) the given number of degrees.\n",
    "- Action `F` means to move forward to the waypoint a number of times equal to the given value.\n",
    "\n",
    "The waypoint starts 10 units east and 1 unit north relative to the ship. The waypoint is relative to the ship; that is, if the ship moves, the waypoint moves with it.\n",
    "\n",
    "For example, using the same instructions as above:\n",
    "\n",
    "- `F10` moves the ship to the waypoint 10 times (a total of 100 units east and 10 units north), leaving the ship at east 100, north 10. The waypoint stays 10 units east and 1 unit north of the ship.\n",
    "- `N3` moves the waypoint 3 units north to 10 units east and 4 units north of the ship. The ship remains at east 100, north 10.\n",
    "- `F7` moves the ship to the waypoint 7 times (a total of 70 units east and 28 units north), leaving the ship at east 170, north 38. The waypoint stays 10 units east and 4 units north of the ship.\n",
    "- `R90` rotates the waypoint around the ship clockwise 90 degrees, moving it to 4 units east and 10 units south of the ship. The ship remains at east 170, north 38.\n",
    "- `F11` moves the ship to the waypoint 11 times (a total of 44 units east and 110 units south), leaving the ship at east 214, south 72. The waypoint stays 4 units east and 10 units south of the ship.\n",
    "\n",
    "After these operations, the ship's Manhattan distance from its starting position is `214 + 72 = 286`.\n",
    "\n",
    "Figure out where the navigation instructions actually lead. What is the Manhattan distance between that location and the ship's starting position?"
   ]
  },
  {
   "cell_type": "code",
   "execution_count": 51,
   "metadata": {},
   "outputs": [],
   "source": [
    "(with-decorator dataclass\n",
    "  (defclass Point []\n",
    "    (^int north-south)\n",
    "    (^int east-west)))"
   ]
  },
  {
   "cell_type": "code",
   "execution_count": 53,
   "metadata": {},
   "outputs": [],
   "source": [
    "(defn move-point-direction [point direction value]\n",
    "  ; north +, east +\n",
    "  (cond\n",
    "    [(= direction \"N\") (+= point.north-south value)]\n",
    "    [(= direction \"S\") (-= point.north-south value)]\n",
    "    [(= direction \"E\") (+= point.east-west value)]\n",
    "    [(= direction \"W\") (-= point.east-west value)]))"
   ]
  },
  {
   "cell_type": "code",
   "execution_count": 55,
   "metadata": {},
   "outputs": [],
   "source": [
    "(defn rotate-point [ship point direction value]\n",
    "  ; rotate point around ship the given direction by the angle given in value\n",
    "  (setv north-south (- point.north-south ship.north-south))\n",
    "  (setv east-west (- point.east-west ship.east-west))\n",
    "  ; standardize on clockwise rotation\n",
    "  (setv rotation\n",
    "    (if (= direction \"R\")\n",
    "      value\n",
    "      (- 360 value)))\n",
    "  (cond\n",
    "    [(= rotation 90)\n",
    "     (do\n",
    "       (setv point.north-south (- ship.north-south east-west))\n",
    "       (setv point.east-west (+ ship.east-west north-south)))]\n",
    "    [(= rotation 180)\n",
    "     (do\n",
    "       (setv point.north-south (- ship.north-south north-south))\n",
    "       (setv point.east-west (- ship.east-west east-west)))]\n",
    "    [(= rotation 270)\n",
    "     (do\n",
    "       (setv point.north-south (+ ship.north-south east-west))\n",
    "       (setv point.east-west (- ship.east-west north-south)))]))"
   ]
  },
  {
   "cell_type": "code",
   "execution_count": 62,
   "metadata": {},
   "outputs": [
    {
     "data": {
      "text/plain": [
       "Point(north_south=-1, east_west=-10)"
      ]
     },
     "execution_count": 62,
     "metadata": {},
     "output_type": "execute_result"
    }
   ],
   "source": [
    "(do (rotate-point (Point 0 0) (setx temp (Point 1 10)) \"L\" 180) temp)"
   ]
  },
  {
   "cell_type": "code",
   "execution_count": 64,
   "metadata": {},
   "outputs": [],
   "source": [
    "(defn ship-toward-point [ship point times]\n",
    "  (setv north-south (- point.north-south ship.north-south))\n",
    "  (setv east-west (- point.east-west ship.east-west))\n",
    "  (+= ship.north-south (* north-south times))\n",
    "  (+= point.north-south (* north-south times))\n",
    "  (+= ship.east-west (* east-west times))\n",
    "  (+= point.east-west (* east-west times)))"
   ]
  },
  {
   "cell_type": "code",
   "execution_count": 65,
   "metadata": {},
   "outputs": [],
   "source": [
    "(defn do-one-instruction [ship point instr]\n",
    "  (cond\n",
    "    [(in instr.direction \"NESW\") (move-point-direction point instr.direction instr.value)]\n",
    "    [(in instr.direction \"RL\") (rotate-point ship point instr.direction instr.value)]\n",
    "    [(= instr.direction \"F\") (ship-toward-point ship point instr.value)]))"
   ]
  },
  {
   "cell_type": "code",
   "execution_count": 66,
   "metadata": {},
   "outputs": [],
   "source": [
    "(defn apply-instructions2 [ship point instructions]\n",
    "  (for [instr instructions] (do-one-instruction ship point instr)))"
   ]
  },
  {
   "cell_type": "code",
   "execution_count": 68,
   "metadata": {},
   "outputs": [
    {
     "data": {
      "text/plain": [
       "(Point(north_south=-29011, east_west=-25393), Point(north_south=-29000, east_west=-25504))"
      ]
     },
     "execution_count": 68,
     "metadata": {},
     "output_type": "execute_result"
    }
   ],
   "source": [
    "(do\n",
    "  (apply-instructions2\n",
    "    (setx ship (Point 0 0))\n",
    "    (setx point (Point 1 10))\n",
    "    (input-instructions))\n",
    "  (, ship point))"
   ]
  },
  {
   "cell_type": "code",
   "execution_count": 69,
   "metadata": {},
   "outputs": [
    {
     "data": {
      "text/plain": [
       "54404"
      ]
     },
     "execution_count": 69,
     "metadata": {},
     "output_type": "execute_result"
    }
   ],
   "source": [
    "(+ 29011 25393)"
   ]
  },
  {
   "cell_type": "code",
   "execution_count": null,
   "metadata": {},
   "outputs": [],
   "source": []
  }
 ],
 "metadata": {
  "kernelspec": {
   "display_name": "Calysto Hy",
   "language": "hy",
   "name": "calysto_hy"
  },
  "language_info": {
   "codemirror_mode": {
    "name": "scheme"
   },
   "mimetype": "text/x-hylang",
   "name": "hy",
   "pygments_lexer": "lisp"
  }
 },
 "nbformat": 4,
 "nbformat_minor": 4
}
