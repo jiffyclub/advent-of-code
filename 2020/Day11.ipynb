{
 "cells": [
  {
   "cell_type": "markdown",
   "metadata": {},
   "source": [
    "# Part 1\n",
    "\n",
    "--- Day 11: Seating System ---\n",
    "\n",
    "Your plane lands with plenty of time to spare. The final leg of your journey is a ferry that goes directly to the tropical island where you can finally start your vacation. As you reach the waiting area to board the ferry, you realize you're so early, nobody else has even arrived yet!\n",
    "\n",
    "By modeling the process people use to choose (or abandon) their seat in the waiting area, you're pretty sure you can predict the best place to sit. You make a quick map of the seat layout (your puzzle input).\n",
    "\n",
    "The seat layout fits neatly on a grid. Each position is either floor (`.`), an empty seat (`L`), or an occupied seat (`#`). For example, the initial seat layout might look like this:\n",
    "\n",
    "```\n",
    "L.LL.LL.LL\n",
    "LLLLLLL.LL\n",
    "L.L.L..L..\n",
    "LLLL.LL.LL\n",
    "L.LL.LL.LL\n",
    "L.LLLLL.LL\n",
    "..L.L.....\n",
    "LLLLLLLLLL\n",
    "L.LLLLLL.L\n",
    "L.LLLLL.LL\n",
    "```\n",
    "\n",
    "Now, you just need to model the people who will be arriving shortly. Fortunately, people are entirely predictable and always follow a simple set of rules. All decisions are based on the number of occupied seats adjacent to a given seat (one of the eight positions immediately up, down, left, right, or diagonal from the seat). The following rules are applied to every seat simultaneously:\n",
    "\n",
    "- If a seat is empty (`L`) and there are no occupied seats adjacent to it, the seat becomes occupied.\n",
    "- If a seat is occupied (`#`) and four or more seats adjacent to it are also occupied, the seat becomes empty.\n",
    "- Otherwise, the seat's state does not change.\n",
    "- Floor (`.`) never changes; seats don't move, and nobody sits on the floor.\n",
    "\n",
    "After one round of these rules, every seat in the example layout becomes occupied:\n",
    "\n",
    "```\n",
    "#.##.##.##\n",
    "#######.##\n",
    "#.#.#..#..\n",
    "####.##.##\n",
    "#.##.##.##\n",
    "#.#####.##\n",
    "..#.#.....\n",
    "##########\n",
    "#.######.#\n",
    "#.#####.##\n",
    "```\n",
    "\n",
    "After a second round, the seats with four or more occupied adjacent seats become empty again:\n",
    "\n",
    "```\n",
    "#.LL.L#.##\n",
    "#LLLLLL.L#\n",
    "L.L.L..L..\n",
    "#LLL.LL.L#\n",
    "#.LL.LL.LL\n",
    "#.LLLL#.##\n",
    "..L.L.....\n",
    "#LLLLLLLL#\n",
    "#.LLLLLL.L\n",
    "#.#LLLL.##\n",
    "```\n",
    "\n",
    "This process continues for three more rounds:\n",
    "\n",
    "```\n",
    "#.##.L#.##\n",
    "#L###LL.L#\n",
    "L.#.#..#..\n",
    "#L##.##.L#\n",
    "#.##.LL.LL\n",
    "#.###L#.##\n",
    "..#.#.....\n",
    "#L######L#\n",
    "#.LL###L.L\n",
    "#.#L###.##\n",
    "```\n",
    "\n",
    "```\n",
    "#.#L.L#.##\n",
    "#LLL#LL.L#\n",
    "L.L.L..#..\n",
    "#LLL.##.L#\n",
    "#.LL.LL.LL\n",
    "#.LL#L#.##\n",
    "..L.L.....\n",
    "#L#LLLL#L#\n",
    "#.LLLLLL.L\n",
    "#.#L#L#.##\n",
    "```\n",
    "\n",
    "```\n",
    "#.#L.L#.##\n",
    "#LLL#LL.L#\n",
    "L.#.L..#..\n",
    "#L##.##.L#\n",
    "#.#L.LL.LL\n",
    "#.#L#L#.##\n",
    "..L.L.....\n",
    "#L#L##L#L#\n",
    "#.LLLLLL.L\n",
    "#.#L#L#.##\n",
    "```\n",
    "\n",
    "At this point, something interesting happens: the chaos stabilizes and further applications of these rules cause no seats to change state! Once people stop moving around, you count 37 occupied seats.\n",
    "\n",
    "Simulate your seating area by applying the seating rules repeatedly until no seats change state. How many seats end up occupied?"
   ]
  },
  {
   "cell_type": "code",
   "execution_count": 2,
   "metadata": {},
   "outputs": [],
   "source": [
    "from pathlib import Path\n",
    "\n",
    "import numba\n",
    "import numpy as np"
   ]
  },
  {
   "cell_type": "code",
   "execution_count": 3,
   "metadata": {},
   "outputs": [],
   "source": [
    "INPUT_FILE = Path.cwd() / 'inputs' / 'day11' / 'part1.txt'"
   ]
  },
  {
   "cell_type": "code",
   "execution_count": 4,
   "metadata": {},
   "outputs": [],
   "source": [
    "CHAR_MAP = {'.': 0, 'L': 1, '#': 2}"
   ]
  },
  {
   "cell_type": "code",
   "execution_count": 5,
   "metadata": {},
   "outputs": [],
   "source": [
    "def input_lines():\n",
    "    with INPUT_FILE.open() as fp:\n",
    "        for line in fp:\n",
    "            yield line.strip()"
   ]
  },
  {
   "cell_type": "code",
   "execution_count": 6,
   "metadata": {},
   "outputs": [],
   "source": [
    "def input_array():\n",
    "    return np.array(\n",
    "        tuple(\n",
    "            (tuple(CHAR_MAP[char] for char in line)\n",
    "            for line in input_lines())\n",
    "        ),\n",
    "        dtype=np.uint8\n",
    "    )"
   ]
  },
  {
   "cell_type": "code",
   "execution_count": 7,
   "metadata": {},
   "outputs": [
    {
     "data": {
      "text/plain": [
       "(97, 94)"
      ]
     },
     "execution_count": 7,
     "metadata": {},
     "output_type": "execute_result"
    }
   ],
   "source": [
    "input_array().shape"
   ]
  },
  {
   "cell_type": "code",
   "execution_count": 8,
   "metadata": {},
   "outputs": [],
   "source": [
    "@numba.jit(nopython=True, nogil=True)\n",
    "def adjacent_occupied(array, row, col):\n",
    "    row_start = max(0, row - 1)\n",
    "    row_end = min(row + 2, array.shape[0])\n",
    "    col_start = max(0, col - 1)\n",
    "    col_end = min(col + 2, array.shape[1])\n",
    "    \n",
    "    count = 0\n",
    "    \n",
    "    for r in range(row_start, row_end):\n",
    "        for c in range(col_start, col_end):\n",
    "            if array[r, c] == 2 and not (r == row and c == col):\n",
    "                count += 1\n",
    "    \n",
    "    return count"
   ]
  },
  {
   "cell_type": "code",
   "execution_count": 9,
   "metadata": {},
   "outputs": [
    {
     "data": {
      "text/plain": [
       "8"
      ]
     },
     "execution_count": 9,
     "metadata": {},
     "output_type": "execute_result"
    }
   ],
   "source": [
    "adjacent_occupied(np.uint8([[2, 2, 2], [2, 2, 2], [2, 2, 2]]), 1, 1)"
   ]
  },
  {
   "cell_type": "code",
   "execution_count": 10,
   "metadata": {},
   "outputs": [],
   "source": [
    "@numba.jit(nopython=True, nogil=True)\n",
    "def new_value(array, row, col):\n",
    "    current_val = array[row, col]\n",
    "    if current_val == 0:\n",
    "        return 0\n",
    "    \n",
    "    occupied = adjacent_occupied(array, row, col)\n",
    "    if current_val == 1:\n",
    "        if occupied == 0:\n",
    "            return 2\n",
    "        else:\n",
    "            return 1\n",
    "    else:\n",
    "        if occupied >= 4:\n",
    "            return 1\n",
    "        else:\n",
    "            return 2"
   ]
  },
  {
   "cell_type": "code",
   "execution_count": 11,
   "metadata": {},
   "outputs": [],
   "source": [
    "@numba.jit(nopython=True, nogil=True)\n",
    "def do_cycle(array, new_array):\n",
    "    for row in range(array.shape[0]):\n",
    "        for col in range(array.shape[1]):\n",
    "            new_array[row, col] = new_value(array, row, col)"
   ]
  },
  {
   "cell_type": "code",
   "execution_count": 12,
   "metadata": {},
   "outputs": [],
   "source": [
    "@numba.jit(nopython=True, nogil=True)\n",
    "def run_model(array1):\n",
    "    array2 = np.zeros_like(array1)\n",
    "    while True:\n",
    "        do_cycle(array1, array2)\n",
    "        if np.array_equal(array1, array2):\n",
    "            return array1\n",
    "        array1, array2 = array2, array1"
   ]
  },
  {
   "cell_type": "code",
   "execution_count": 13,
   "metadata": {},
   "outputs": [],
   "source": [
    "result = run_model(input_array())"
   ]
  },
  {
   "cell_type": "code",
   "execution_count": 14,
   "metadata": {},
   "outputs": [
    {
     "data": {
      "text/plain": [
       "2368"
      ]
     },
     "execution_count": 14,
     "metadata": {},
     "output_type": "execute_result"
    }
   ],
   "source": [
    "(result == 2).sum()"
   ]
  },
  {
   "cell_type": "markdown",
   "metadata": {},
   "source": [
    "# Part 2\n",
    "\n",
    "As soon as people start to arrive, you realize your mistake. People don't just care about adjacent seats - they care about the first seat they can see in each of those eight directions!\n",
    "\n",
    "Now, instead of considering just the eight immediately adjacent seats, consider the first seat in each of those eight directions. For example, the empty seat below would see eight occupied seats:\n",
    "\n",
    "```\n",
    ".......#.\n",
    "...#.....\n",
    ".#.......\n",
    ".........\n",
    "..#L....#\n",
    "....#....\n",
    ".........\n",
    "#........\n",
    "...#.....\n",
    "```\n",
    "\n",
    "The leftmost empty seat below would only see one empty seat, but cannot see any of the occupied ones:\n",
    "\n",
    "```\n",
    ".............\n",
    ".L.L.#.#.#.#.\n",
    ".............\n",
    "```\n",
    "\n",
    "The empty seat below would see no occupied seats:\n",
    "\n",
    "```\n",
    ".##.##.\n",
    "#.#.#.#\n",
    "##...##\n",
    "...L...\n",
    "##...##\n",
    "#.#.#.#\n",
    ".##.##.\n",
    "```\n",
    "\n",
    "Also, people seem to be more tolerant than you expected: it now takes five or more visible occupied seats for an occupied seat to become empty (rather than four or more from the previous rules). The other rules still apply: empty seats that see no occupied seats become occupied, seats matching no rule don't change, and floor never changes.\n",
    "\n",
    "Given the same starting layout as above, these new rules cause the seating area to shift around as follows:\n",
    "\n",
    "```\n",
    "L.LL.LL.LL\n",
    "LLLLLLL.LL\n",
    "L.L.L..L..\n",
    "LLLL.LL.LL\n",
    "L.LL.LL.LL\n",
    "L.LLLLL.LL\n",
    "..L.L.....\n",
    "LLLLLLLLLL\n",
    "L.LLLLLL.L\n",
    "L.LLLLL.LL\n",
    "```\n",
    "\n",
    "```\n",
    "#.##.##.##\n",
    "#######.##\n",
    "#.#.#..#..\n",
    "####.##.##\n",
    "#.##.##.##\n",
    "#.#####.##\n",
    "..#.#.....\n",
    "##########\n",
    "#.######.#\n",
    "#.#####.##\n",
    "```\n",
    "\n",
    "```\n",
    "#.LL.LL.L#\n",
    "#LLLLLL.LL\n",
    "L.L.L..L..\n",
    "LLLL.LL.LL\n",
    "L.LL.LL.LL\n",
    "L.LLLLL.LL\n",
    "..L.L.....\n",
    "LLLLLLLLL#\n",
    "#.LLLLLL.L\n",
    "#.LLLLL.L#\n",
    "```\n",
    "\n",
    "```\n",
    "#.L#.##.L#\n",
    "#L#####.LL\n",
    "L.#.#..#..\n",
    "##L#.##.##\n",
    "#.##.#L.##\n",
    "#.#####.#L\n",
    "..#.#.....\n",
    "LLL####LL#\n",
    "#.L#####.L\n",
    "#.L####.L#\n",
    "```\n",
    "\n",
    "```\n",
    "#.L#.L#.L#\n",
    "#LLLLLL.LL\n",
    "L.L.L..#..\n",
    "##LL.LL.L#\n",
    "L.LL.LL.L#\n",
    "#.LLLLL.LL\n",
    "..L.L.....\n",
    "LLLLLLLLL#\n",
    "#.LLLLL#.L\n",
    "#.L#LL#.L#\n",
    "```\n",
    "\n",
    "```\n",
    "#.L#.L#.L#\n",
    "#LLLLLL.LL\n",
    "L.L.L..#..\n",
    "##L#.#L.L#\n",
    "L.L#.#L.L#\n",
    "#.L####.LL\n",
    "..#.#.....\n",
    "LLL###LLL#\n",
    "#.LLLLL#.L\n",
    "#.L#LL#.L#\n",
    "```\n",
    "\n",
    "```\n",
    "#.L#.L#.L#\n",
    "#LLLLLL.LL\n",
    "L.L.L..#..\n",
    "##L#.#L.L#\n",
    "L.L#.LL.L#\n",
    "#.LLLL#.LL\n",
    "..#.L.....\n",
    "LLL###LLL#\n",
    "#.LLLLL#.L\n",
    "#.L#LL#.L#\n",
    "```\n",
    "\n",
    "Again, at this point, people stop shifting around and the seating area reaches equilibrium. Once this occurs, you count 26 occupied seats.\n",
    "\n",
    "Given the new visibility method and the rule change for occupied seats becoming empty, once equilibrium is reached, how many seats end up occupied?"
   ]
  },
  {
   "cell_type": "code",
   "execution_count": 29,
   "metadata": {},
   "outputs": [],
   "source": [
    "@numba.jit(nopython=True, nogil=True)\n",
    "def occupied_seat_north(array, row, col):\n",
    "    # row -1, col 0\n",
    "    for r in range(row - 1, -1, -1):\n",
    "        if array[r, col] == 2:\n",
    "            return True\n",
    "        elif array[r, col] == 1:\n",
    "            return False\n",
    "    return False"
   ]
  },
  {
   "cell_type": "code",
   "execution_count": 30,
   "metadata": {},
   "outputs": [],
   "source": [
    "@numba.jit(nopython=True, nogil=True)\n",
    "def occupied_seat_south(array, row, col):\n",
    "    # row +1, col 0\n",
    "    for r in range(row + 1, array.shape[0]):\n",
    "        if array[r, col] == 2:\n",
    "            return True\n",
    "        elif array[r, col] == 1:\n",
    "            return False\n",
    "    return False"
   ]
  },
  {
   "cell_type": "code",
   "execution_count": 31,
   "metadata": {},
   "outputs": [],
   "source": [
    "@numba.jit(nopython=True, nogil=True)\n",
    "def occupied_seat_west(array, row, col):\n",
    "    # row 0, col -1\n",
    "    for c in range(col - 1, -1, -1):\n",
    "        if array[row, c] == 2:\n",
    "            return True\n",
    "        elif array[row, c] == 1:\n",
    "            return False\n",
    "    return False"
   ]
  },
  {
   "cell_type": "code",
   "execution_count": 32,
   "metadata": {},
   "outputs": [],
   "source": [
    "@numba.jit(nopython=True, nogil=True)\n",
    "def occupied_seat_east(array, row, col):\n",
    "    # row 0, col +1\n",
    "    for c in range(col + 1, array.shape[1]):\n",
    "        if array[row, c] == 2:\n",
    "            return True\n",
    "        elif array[row, c] == 1:\n",
    "            return False\n",
    "    return False"
   ]
  },
  {
   "cell_type": "code",
   "execution_count": 33,
   "metadata": {},
   "outputs": [],
   "source": [
    "@numba.jit(nopython=True, nogil=True)\n",
    "def occupied_seat_ne(array, row, col):\n",
    "    # row -1, col +1\n",
    "    for r, c in zip(range(row - 1, -1, -1), range(col + 1, array.shape[1])):\n",
    "        if array[r, c] == 2:\n",
    "            return True\n",
    "        elif array[r, c] == 1:\n",
    "            return False\n",
    "    return False"
   ]
  },
  {
   "cell_type": "code",
   "execution_count": 34,
   "metadata": {},
   "outputs": [],
   "source": [
    "@numba.jit(nopython=True, nogil=True)\n",
    "def occupied_seat_se(array, row, col):\n",
    "    # row +1, col +1\n",
    "    for r, c in zip(range(row + 1, array.shape[0]), range(col + 1, array.shape[1])):\n",
    "        if array[r, c] == 2:\n",
    "            return True\n",
    "        elif array[r, c] == 1:\n",
    "            return False\n",
    "    return False"
   ]
  },
  {
   "cell_type": "code",
   "execution_count": 35,
   "metadata": {},
   "outputs": [],
   "source": [
    "@numba.jit(nopython=True, nogil=True)\n",
    "def occupied_seat_sw(array, row, col):\n",
    "    # row +1, col -1\n",
    "    for r, c in zip(range(row + 1, array.shape[0]), range(col - 1, -1, -1)):\n",
    "        if array[r, c] == 2:\n",
    "            return True\n",
    "        elif array[r, c] == 1:\n",
    "            return False\n",
    "    return False"
   ]
  },
  {
   "cell_type": "code",
   "execution_count": 36,
   "metadata": {},
   "outputs": [],
   "source": [
    "@numba.jit(nopython=True, nogil=True)\n",
    "def occupied_seat_nw(array, row, col):\n",
    "    # row -1, col -1\n",
    "    for r, c in zip(range(row - 1, -1, -1), range(col - 1, -1, -1)):\n",
    "        if array[r, c] == 2:\n",
    "            return True\n",
    "        elif array[r, c] == 1:\n",
    "            return False\n",
    "    return False"
   ]
  },
  {
   "cell_type": "code",
   "execution_count": 37,
   "metadata": {},
   "outputs": [],
   "source": [
    "@numba.jit(nopython=True, nogil=True)\n",
    "def visible_occupied_seats(array, row, col):\n",
    "    count = 0\n",
    "    \n",
    "    if occupied_seat_north(array, row, col):\n",
    "        count += 1\n",
    "    if occupied_seat_south(array, row, col):\n",
    "        count += 1\n",
    "    if occupied_seat_east(array, row, col):\n",
    "        count += 1\n",
    "    if occupied_seat_west(array, row, col):\n",
    "        count += 1\n",
    "    if occupied_seat_ne(array, row, col):\n",
    "        count += 1\n",
    "    if occupied_seat_se(array, row, col):\n",
    "        count += 1\n",
    "    if occupied_seat_sw(array, row, col):\n",
    "        count += 1\n",
    "    if occupied_seat_nw(array, row, col):\n",
    "        count += 1\n",
    "    \n",
    "    return count"
   ]
  },
  {
   "cell_type": "code",
   "execution_count": 38,
   "metadata": {},
   "outputs": [],
   "source": [
    "@numba.jit(nopython=True, nogil=True)\n",
    "def new_value2(array, row, col):\n",
    "    current_val = array[row, col]\n",
    "    if current_val == 0:\n",
    "        return 0\n",
    "    \n",
    "    occupied = visible_occupied_seats(array, row, col)\n",
    "    if current_val == 1:\n",
    "        if occupied == 0:\n",
    "            return 2\n",
    "        else:\n",
    "            return 1\n",
    "    else:\n",
    "        if occupied >= 5:\n",
    "            return 1\n",
    "        else:\n",
    "            return 2"
   ]
  },
  {
   "cell_type": "code",
   "execution_count": 39,
   "metadata": {},
   "outputs": [],
   "source": [
    "@numba.jit(nopython=True, nogil=True)\n",
    "def do_cycle2(array, new_array):\n",
    "    for row in range(array.shape[0]):\n",
    "        for col in range(array.shape[1]):\n",
    "            new_array[row, col] = new_value2(array, row, col)"
   ]
  },
  {
   "cell_type": "code",
   "execution_count": 40,
   "metadata": {},
   "outputs": [],
   "source": [
    "@numba.jit(nopython=True, nogil=True)\n",
    "def run_model2(array1):\n",
    "    array2 = np.zeros_like(array1)\n",
    "    while True:\n",
    "        do_cycle2(array1, array2)\n",
    "        if np.array_equal(array1, array2):\n",
    "            return array1\n",
    "        array1, array2 = array2, array1"
   ]
  },
  {
   "cell_type": "code",
   "execution_count": 41,
   "metadata": {},
   "outputs": [],
   "source": [
    "result2 = run_model2(input_array())"
   ]
  },
  {
   "cell_type": "code",
   "execution_count": 42,
   "metadata": {},
   "outputs": [
    {
     "data": {
      "text/plain": [
       "2124"
      ]
     },
     "execution_count": 42,
     "metadata": {},
     "output_type": "execute_result"
    }
   ],
   "source": [
    "(result2 == 2).sum()"
   ]
  },
  {
   "cell_type": "code",
   "execution_count": null,
   "metadata": {},
   "outputs": [],
   "source": []
  }
 ],
 "metadata": {
  "kernelspec": {
   "display_name": "Python 3",
   "language": "python",
   "name": "python3"
  },
  "language_info": {
   "codemirror_mode": {
    "name": "ipython",
    "version": 3
   },
   "file_extension": ".py",
   "mimetype": "text/x-python",
   "name": "python",
   "nbconvert_exporter": "python",
   "pygments_lexer": "ipython3",
   "version": "3.8.6"
  }
 },
 "nbformat": 4,
 "nbformat_minor": 4
}
